{
  "nbformat": 4,
  "nbformat_minor": 0,
  "metadata": {
    "colab": {
      "name": "COVID-19 Prediction with Chest X-Ray Images.ipynb",
      "provenance": [],
      "collapsed_sections": [],
      "include_colab_link": true
    },
    "kernelspec": {
      "name": "python3",
      "display_name": "Python 3"
    },
    "accelerator": "GPU"
  },
  "cells": [
    {
      "cell_type": "markdown",
      "metadata": {
        "id": "view-in-github",
        "colab_type": "text"
      },
      "source": [
        "<a href=\"https://colab.research.google.com/github/Lungs-X-Ray-Neural-Network/Predictive-Analysis-for-the-Detection-of-Covid-19-with-Chest-X-Ray-Images-Using-Convolutional-Neural/blob/main/COVID_19_Prediction_with_Chest_X_Ray_Images.ipynb\" target=\"_parent\"><img src=\"https://colab.research.google.com/assets/colab-badge.svg\" alt=\"Open In Colab\"/></a>"
      ]
    },
    {
      "cell_type": "code",
      "metadata": {
        "id": "-BizX4PyF3q5"
      },
      "source": [
        "import pandas as pd\n",
        "import numpy as np\n",
        "import tensorflow as tf\n",
        "import matplotlib.pyplot as plt\n",
        "import os , shutil"
      ],
      "execution_count": null,
      "outputs": []
    },
    {
      "cell_type": "code",
      "metadata": {
        "id": "KIj70MMUF-rf",
        "colab": {
          "base_uri": "https://localhost:8080/",
          "height": 33
        },
        "outputId": "3e4119fb-ded1-485f-8c62-0c02389e7bd9"
      },
      "source": [
        "from keras import models\n",
        "from keras import layers\n",
        "from keras import optimizers\n",
        "from keras.preprocessing import image\n",
        "from keras.preprocessing.image import ImageDataGenerator"
      ],
      "execution_count": null,
      "outputs": [
        {
          "output_type": "stream",
          "text": [
            "Using TensorFlow backend.\n"
          ],
          "name": "stderr"
        }
      ]
    },
    {
      "cell_type": "code",
      "metadata": {
        "id": "2kM3rp3vGCFh",
        "colab": {
          "base_uri": "https://localhost:8080/",
          "height": 137
        },
        "outputId": "ac83af41-7545-40cf-ba86-c00926e92528"
      },
      "source": [
        "from google.colab import drive\n",
        "drive.mount('/content/drive')\n",
        "!pwd\n"
      ],
      "execution_count": null,
      "outputs": [
        {
          "output_type": "stream",
          "text": [
            "Go to this URL in a browser: https://accounts.google.com/o/oauth2/auth?client_id=947318989803-6bn6qk8qdgf4n4g3pfee6491hc0brc4i.apps.googleusercontent.com&redirect_uri=urn%3aietf%3awg%3aoauth%3a2.0%3aoob&response_type=code&scope=email%20https%3a%2f%2fwww.googleapis.com%2fauth%2fdocs.test%20https%3a%2f%2fwww.googleapis.com%2fauth%2fdrive%20https%3a%2f%2fwww.googleapis.com%2fauth%2fdrive.photos.readonly%20https%3a%2f%2fwww.googleapis.com%2fauth%2fpeopleapi.readonly\n",
            "\n",
            "Enter your authorization code:\n",
            "··········\n",
            "Mounted at /content/drive\n",
            "/content\n"
          ],
          "name": "stdout"
        }
      ]
    },
    {
      "cell_type": "code",
      "metadata": {
        "id": "mmecUGRYGwk2",
        "colab": {
          "base_uri": "https://localhost:8080/",
          "height": 1000
        },
        "outputId": "bfe16a71-451a-40c6-a185-184bacde6f7e"
      },
      "source": [
        "!unzip '/content/drive/My Drive/Kaggle data/Covid/Copy of covid_data.zip'"
      ],
      "execution_count": null,
      "outputs": [
        {
          "output_type": "stream",
          "text": [
            "Archive:  /content/drive/My Drive/Kaggle data/Covid/Copy of covid_data.zip\n",
            "  inflating: val/corona/1.jpeg       \n",
            "  inflating: val/corona/SARS-10.1148rg.242035193-g04mr34g0-Fig8b-day5.jpeg  \n",
            "  inflating: val/corona/ryct.2020200034.fig5-day7.jpeg  \n",
            "  inflating: val/normal/IM-0154-0001.jpeg  \n",
            "  inflating: val/normal/IM-0141-0001.jpeg  \n",
            "  inflating: val/normal/IM-0140-0001.jpeg  \n",
            "  inflating: val/normal/IM-0156-0001.jpeg  \n",
            "  inflating: val/normal/IM-0149-0001.jpeg  \n",
            "  inflating: val/corona/SARS-10.1148rg.242035193-g04mr34g0-Fig8a-day0.jpeg  \n",
            "  inflating: val/normal/IM-0151-0001.jpeg  \n",
            "  inflating: val/corona/SARS-10.1148rg.242035193-g04mr34g04a-Fig4a-day7.jpeg  \n",
            "  inflating: val/normal/IM-0147-0001.jpeg  \n",
            "  inflating: val/normal/IM-0145-0001.jpeg  \n",
            "  inflating: test/normal/IM-0115-0001.jpeg  \n",
            "  inflating: val/normal/IM-0152-0001.jpeg  \n",
            "  inflating: test/corona/SARS-10.1148rg.242035193-g04mr34g07b-Fig7b-day12.jpeg  \n",
            "  inflating: val/corona/SARS-10.1148rg.242035193-g04mr34g04b-Fig4b-day12.jpeg  \n",
            "  inflating: test/corona/streptococcus-pneumoniae-pneumonia-temporal-evolution-1-day2.jpg  \n",
            "  inflating: val/corona/SARS-10.1148rg.242035193-g04mr34g0-Fig8c-day10.jpeg  \n",
            "  inflating: test/normal/IM-0125-0001.jpeg  \n",
            "  inflating: val/normal/IM-0143-0001.jpeg  \n",
            "  inflating: test/normal/IM-0127-0001.jpeg  \n",
            "  inflating: val/corona/SARS-10.1148rg.242035193-g04mr34g05x-Fig5-day9.jpeg  \n",
            "  inflating: val/corona/ryct.2020200034.fig5-day0.jpeg  \n",
            "  inflating: test/normal/IM-0119-0001.jpeg  \n",
            "  inflating: test/normal/IM-0131-0001.jpeg  \n",
            "  inflating: val/corona/ryct.2020200034.fig5-day4.jpeg  \n",
            "  inflating: test/corona/streptococcus-pneumoniae-pneumonia-temporal-evolution-1-day1.jpg  \n",
            "  inflating: test/corona/SARS-10.1148rg.242035193-g04mr34g09c-Fig9c-day27.jpeg  \n",
            "  inflating: test/normal/IM-0122-0001.jpeg  \n",
            "  inflating: test/normal/IM-0129-0001.jpeg  \n",
            "  inflating: test/corona/SARS-10.1148rg.242035193-g04mr34g09b-Fig9b-day19.jpeg  \n",
            "  inflating: test/corona/SARS-10.1148rg.242035193-g04mr34g07a-Fig7a-day5.jpeg  \n",
            "  inflating: test/normal/IM-0133-0001.jpeg  \n",
            "  inflating: test/normal/IM-0117-0001.jpeg  \n",
            "  inflating: test/corona/streptococcus-pneumoniae-pneumonia-temporal-evolution-1-day3.jpg  \n",
            "  inflating: test/corona/SARS-10.1148rg.242035193-g04mr34g09a-Fig9a-day17.jpeg  \n",
            "  inflating: test/corona/streptococcus-pneumoniae-pneumonia-temporal-evolution-1-day0.jpg  \n",
            "  inflating: test/corona/streptococcus-pneumoniae-pneumonia-1.jpg  \n",
            "  inflating: train/corona/93FE0BB1-022D-4F24-9727-987A07975FFB.jpeg  \n",
            "  inflating: test/normal/IM-0128-0001.jpeg  \n",
            "  inflating: train/corona/6C94A287-C059-46A0-8600-AFB95F4727B7.jpeg  \n",
            "  inflating: train/corona/ciaa199.pdf-001-c.png  \n",
            "  inflating: train/corona/pneumocystis-pneumonia-2-PA.png  \n",
            "  inflating: train/corona/figure1-5e71be566aa8714a04de3386-98-left.jpeg  \n",
            "  inflating: train/corona/80446565-E090-4187-A031-9D3CEAA586C8.jpeg  \n",
            "  inflating: train/corona/all14238-fig-0001-m-b.jpg  \n",
            "  inflating: train/corona/1312A392-67A3-4EBF-9319-810CF6DA5EF6.jpeg  \n",
            "  inflating: train/corona/F63AB6CE-1968-4154-A70F-913AF154F53D.jpeg  \n",
            "  inflating: train/corona/lancet-case2a.jpg  \n",
            "  inflating: train/corona/03BF7561-A9BA-4C3C-B8A0-D3E585F73F3C.jpeg  \n",
            "  inflating: train/normal/IM-0215-0001.jpeg  \n",
            "  inflating: train/normal/IM-0285-0001.jpeg  \n",
            "  inflating: train/normal/IM-0323-0001.jpeg  \n",
            "  inflating: train/normal/IM-0270-0001.jpeg  \n",
            "  inflating: train/corona/1-s2.0-S1684118220300608-main.pdf-001.jpg  \n",
            "  inflating: train/normal/IM-0305-0001.jpeg  \n",
            "  inflating: train/normal/IM-0319-0001.jpeg  \n",
            "  inflating: train/normal/IM-0265-0001.jpeg  \n",
            "  inflating: train/corona/auntminnie-b-2020_01_28_23_51_6665_2020_01_28_Vietnam_coronavirus.jpeg  \n",
            "  inflating: train/corona/31BA3780-2323-493F-8AED-62081B9C383B.jpeg  \n",
            "  inflating: train/normal/IM-0210-0001.jpeg  \n",
            "  inflating: train/normal/IM-0261-0001.jpeg  \n",
            "  inflating: train/normal/IM-0309-0001.jpeg  \n",
            "  inflating: train/normal/IM-0299-0001.jpeg  \n",
            "  inflating: train/normal/IM-0269-0001.jpeg  \n",
            "  inflating: train/normal/IM-0185-0001.jpeg  \n",
            "  inflating: train/corona/kjr-21-e24-g002-l-c.jpg  \n",
            "  inflating: train/normal/IM-0237-0001.jpeg  \n",
            "  inflating: train/normal/IM-0297-0001.jpeg  \n",
            "  inflating: train/corona/covid-19-pneumonia-2.jpg  \n",
            "  inflating: train/corona/FE9F9A5D-2830-46F9-851B-1FF4534959BE.jpeg  \n",
            "  inflating: train/corona/covid-19-pneumonia-7-L.jpg  \n",
            "  inflating: train/normal/IM-0264-0001.jpeg  \n",
            "  inflating: train/corona/7AF6C1AF-D249-4BD2-8C26-449304105D03.jpeg  \n",
            "  inflating: train/normal/IM-0218-0001.jpeg  \n",
            "  inflating: train/corona/ARDSSevere.png  \n",
            "  inflating: train/corona/D7AF463C-2369-492D-908D-BE1911CCD74C.jpeg  \n",
            "  inflating: train/corona/ciaa199.pdf-001-b.png  \n",
            "  inflating: train/corona/nejmoa2001191_f5-PA.jpeg  \n",
            "  inflating: train/corona/covid-19-pneumonia-19.jpg  \n",
            "  inflating: train/corona/8FDE8DBA-CFBD-4B4C-B1A4-6F36A93B7E87.jpeg  \n",
            "  inflating: train/corona/9C34AF49-E589-44D5-92D3-168B3B04E4A6.jpeg  \n",
            "  inflating: train/corona/radiopedia-covid-19-pneumonia-2.jpg  \n",
            "  inflating: train/corona/F4341CE7-73C9-45C6-99C8-8567A5484B63.jpeg  \n",
            "  inflating: train/corona/auntminnie-c-2020_01_28_23_51_6665_2020_01_28_Vietnam_coronavirus.jpeg  \n",
            "  inflating: train/corona/jkms-35-e79-g001-l-c.jpg  \n",
            "  inflating: train/corona/F2DE909F-E19C-4900-92F5-8F435B031AC6.jpeg  \n",
            "  inflating: train/corona/4C4DEFD8-F55D-4588-AAD6-C59017F55966.jpeg  \n",
            "  inflating: train/corona/41591_2020_819_Fig1_HTML.webp-day10.png  \n",
            "  inflating: train/corona/all14238-fig-0002-m-d.jpg  \n",
            "  inflating: train/normal/IM-0304-0001.jpeg  \n",
            "  inflating: train/corona/jkms-35-e79-g001-l-b.jpg  \n",
            "  inflating: train/corona/CD50BA96-6982-4C80-AE7B-5F67ACDBFA56.jpeg  \n",
            "  inflating: train/normal/IM-0248-0001.jpeg  \n",
            "  inflating: train/normal/IM-0238-0001.jpeg  \n",
            "  inflating: train/corona/radiol.2020200490.fig3.jpeg  \n",
            "  inflating: train/corona/auntminnie-d-2020_01_28_23_51_6665_2020_01_28_Vietnam_coronavirus.jpeg  \n",
            "  inflating: train/normal/IM-0280-0001.jpeg  \n",
            "  inflating: train/normal/IM-0168-0001.jpeg  \n",
            "  inflating: train/normal/IM-0298-0001.jpeg  \n",
            "  inflating: train/normal/IM-0228-0001.jpeg  \n",
            "  inflating: train/normal/IM-0213-0001.jpeg  \n",
            "  inflating: train/normal/IM-0317-0001.jpeg  \n",
            "  inflating: train/normal/IM-0294-0001.jpeg  \n",
            "  inflating: train/corona/ards-secondary-to-tiger-snake-bite.png  \n",
            "  inflating: train/corona/nejmc2001573_f1b.jpeg  \n",
            "  inflating: train/corona/nejmoa2001191_f1-L.jpeg  \n",
            "  inflating: train/corona/all14238-fig-0002-m-e.jpg  \n",
            "  inflating: train/corona/35AF5C3B-D04D-4B4B-92B7-CB1F67D83085.jpeg  \n",
            "  inflating: train/corona/kjr-21-e24-g002-l-a.jpg  \n",
            "  inflating: train/corona/kjr-21-e24-g001-l-a.jpg  \n",
            "  inflating: train/corona/nCoV-radiol.2020200269.fig1-day7.jpeg  \n",
            "  inflating: train/corona/auntminnie-2020_01_31_20_24_2322_2020_01_31_x-ray_coronavirus_US.jpg  \n",
            "  inflating: train/corona/nejmoa2001191_f5-L.jpeg  \n",
            "  inflating: train/corona/E63574A7-4188-4C8D-8D17-9D67A18A1AFA.jpeg  \n",
            "  inflating: train/normal/IM-0306-0001.jpeg  \n",
            "  inflating: train/corona/covid-19-pneumonia-7-PA.jpg  \n",
            "  inflating: train/normal/IM-0291-0001.jpeg  \n",
            "  inflating: train/normal/IM-0226-0001.jpeg  \n",
            "  inflating: train/corona/acute-respiratory-distress-syndrome-ards-1.jpg  \n",
            "  inflating: train/normal/IM-0225-0001.jpeg  \n",
            "  inflating: train/corona/jkms-35-e79-g001-l-a.jpg  \n",
            "  inflating: train/normal/IM-0266-0001.jpeg  \n",
            "  inflating: train/normal/IM-0162-0001.jpeg  \n",
            "  inflating: train/corona/gr1_lrg-b.jpg  \n",
            "  inflating: train/corona/7C69C012-7479-493F-8722-ABC29C60A2DD.jpeg  \n",
            "  inflating: train/corona/gr1_lrg-a.jpg  \n",
            "  inflating: train/corona/auntminnie-a-2020_01_28_23_51_6665_2020_01_28_Vietnam_coronavirus.jpeg  \n",
            "  inflating: train/normal/IM-0313-0001.jpeg  \n",
            "  inflating: train/normal/IM-0320-0001.jpeg  \n",
            "  inflating: train/corona/radiopaedia-2019-novel-coronavirus-infected-pneumonia.jpg  \n",
            "  inflating: train/normal/IM-0272-0001.jpeg  \n",
            "  inflating: train/normal/IM-0222-0001.jpeg  \n",
            "  inflating: train/normal/IM-0207-0001.jpeg  \n",
            "  inflating: train/normal/IM-0227-0001.jpeg  \n",
            "  inflating: train/normal/IM-0223-0001.jpeg  \n",
            "  inflating: train/normal/IM-0187-0001.jpeg  \n",
            "  inflating: train/normal/IM-0206-0001.jpeg  \n",
            "  inflating: train/corona/figure1-5e73d7ae897e27ff066a30cb-98.jpeg  \n",
            "  inflating: train/normal/IM-0292-0001.jpeg  \n",
            "  inflating: train/corona/lancet-case2b.jpg  \n",
            "  inflating: train/corona/6CB4EFC6-68FA-4CD5-940C-BEFA8DAFE9A7.jpeg  \n",
            "  inflating: train/normal/IM-0273-0001.jpeg  \n",
            "  inflating: train/corona/1-s2.0-S0929664620300449-gr2_lrg-c.jpg  \n",
            "  inflating: train/corona/all14238-fig-0002-m-f.jpg  \n",
            "  inflating: train/corona/1-s2.0-S1684118220300608-main.pdf-002.jpg  \n",
            "  inflating: train/normal/IM-0216-0001.jpeg  \n",
            "  inflating: train/corona/nejmc2001573_f1a.jpeg  \n",
            "  inflating: train/normal/IM-0268-0001.jpeg  \n",
            "  inflating: train/normal/IM-0301-0001.jpeg  \n",
            "  inflating: train/corona/ciaa199.pdf-001-a.png  \n",
            "  inflating: train/normal/IM-0290-0001.jpeg  \n",
            "  inflating: train/corona/2B8649B2-00C4-4233-85D5-1CE240CF233B.jpeg  \n",
            "  inflating: train/corona/41591_2020_819_Fig1_HTML.webp-day5.png  \n",
            "  inflating: train/corona/C6EA0BE5-B01E-4113-B194-18D956675E25.jpeg  \n",
            "  inflating: train/corona/kjr-21-e24-g003-l-b.jpg  \n",
            "  inflating: train/normal/IM-0318-0001.jpeg  \n",
            "  inflating: train/normal/IM-0231-0001.jpeg  \n",
            "  inflating: train/normal/IM-0158-0001.jpeg  \n",
            "  inflating: train/normal/IM-0288-0001.jpeg  \n",
            "  inflating: train/corona/44C8E3D6-20DA-42E9-B33B-96FA6D6DE12F.jpeg  \n",
            "  inflating: train/corona/nejmoa2001191_f1-PA.jpeg  \n",
            "  inflating: train/corona/1-s2.0-S0929664620300449-gr2_lrg-d.jpg  \n",
            "  inflating: train/corona/B2D20576-00B7-4519-A415-72DE29C90C34.jpeg  \n",
            "  inflating: train/corona/figure1-5e75d0940b71e1b702629659-98-right.jpeg  \n",
            "  inflating: train/corona/kjr-21-e24-g003-l-a.jpg  \n",
            "  inflating: train/corona/kjr-21-e25-g001-l-a.jpg  \n",
            "  inflating: train/corona/171CB377-62FF-4B76-906C-F3787A01CB2E.jpeg  \n",
            "  inflating: train/corona/5e6dd879fde9502400e58b2f.jpeg  \n",
            "  inflating: train/normal/IM-0243-0001.jpeg  \n",
            "  inflating: train/normal/IM-0191-0001.jpeg  \n",
            "  inflating: train/corona/B59DD164-51D5-40DF-A926-6A42DD52EBE8.jpeg  \n",
            "  inflating: train/corona/nejmoa2001191_f3-PA.jpeg  \n",
            "  inflating: train/corona/pneumonia-7.jpg  \n",
            "  inflating: train/corona/nejmoa2001191_f3-L.jpeg  \n",
            "  inflating: train/corona/85E52EB3-56E9-4D67-82DA-DEA247C82886.jpeg  \n",
            "  inflating: train/corona/1-s2.0-S1684118220300682-main.pdf-003-b1.png  \n",
            "  inflating: train/corona/2C26F453-AF3B-4517-BB9E-802CF2179543.jpeg  \n",
            "  inflating: train/corona/5931B64A-7B97-485D-BE60-3F1EA76BC4F0.jpeg  \n",
            "  inflating: train/corona/1-s2.0-S0929664620300449-gr2_lrg-b.jpg  \n",
            "  inflating: train/corona/kjr-21-e24-g001-l-b.jpg  \n",
            "  inflating: train/normal/IM-0275-0001.jpeg  \n",
            "  inflating: train/normal/IM-0241-0001.jpeg  \n",
            "  inflating: train/corona/1-s2.0-S1684118220300682-main.pdf-003-b2.png  \n",
            "  inflating: train/normal/IM-0244-0001.jpeg  \n",
            "  inflating: train/corona/1-s2.0-S0929664620300449-gr2_lrg-a.jpg  \n",
            "  inflating: train/normal/IM-0214-0001.jpeg  \n",
            "  inflating: train/normal/IM-0177-0001.jpeg  \n",
            "  inflating: train/corona/F051E018-DAD1-4506-AD43-BE4CA29E960B.jpeg  \n",
            "  inflating: train/corona/acute-respiratory-distress-syndrome-ards.jpg  \n",
            "  inflating: train/normal/IM-0180-0001.jpeg  \n",
            "  inflating: train/normal/IM-0189-0001.jpeg  \n",
            "  inflating: train/normal/IM-0311-0001.jpeg  \n",
            "  inflating: train/normal/IM-0250-0001.jpeg  \n",
            "  inflating: train/normal/IM-0178-0001.jpeg  \n",
            "  inflating: train/corona/nejmoa2001191_f4.jpeg  \n",
            "  inflating: train/normal/IM-0308-0001.jpeg  \n",
            "  inflating: train/normal/IM-0195-0001.jpeg  \n",
            "  inflating: train/corona/1-s2.0-S1684118220300682-main.pdf-002-a2.png  \n",
            "  inflating: train/normal/IM-0182-0001.jpeg  \n",
            "  inflating: train/normal/IM-0219-0001.jpeg  \n",
            "  inflating: train/normal/IM-0255-0001.jpeg  \n",
            "  inflating: train/corona/1B734A89-A1BF-49A8-A1D3-66FAFA4FAC5D.jpeg  \n",
            "  inflating: train/corona/254B82FC-817D-4E2F-AB6E-1351341F0E38.jpeg  \n",
            "  inflating: train/corona/01E392EE-69F9-4E33-BFCE-E5C968654078.jpeg  \n",
            "  inflating: train/normal/IM-0209-0001.jpeg  \n",
            "  inflating: train/normal/IM-0224-0001.jpeg  \n",
            "  inflating: train/corona/2966893D-5DDF-4B68-9E2B-4979D5956C8E.jpeg  \n",
            "  inflating: train/corona/all14238-fig-0001-m-c.jpg  \n",
            "  inflating: train/normal/IM-0256-0001.jpeg  \n",
            "  inflating: train/normal/IM-0193-0001.jpeg  \n",
            "  inflating: train/normal/IM-0135-0001.jpeg  \n",
            "  inflating: train/normal/IM-0176-0001.jpeg  \n",
            "  inflating: train/normal/IM-0229-0001.jpeg  \n",
            "  inflating: train/normal/IM-0274-0001.jpeg  \n",
            "  inflating: train/normal/IM-0236-0001.jpeg  \n",
            "  inflating: train/normal/IM-0234-0001.jpeg  \n",
            "  inflating: train/normal/IM-0307-0001.jpeg  \n",
            "  inflating: train/corona/D5ACAA93-C779-4E22-ADFA-6A220489F840.jpeg  \n",
            "  inflating: train/normal/IM-0302-0001.jpeg  \n",
            "  inflating: train/corona/39EE8E69-5801-48DE-B6E3-BE7D1BCF3092.jpeg  \n",
            "  inflating: train/corona/MERS-CoV-1-s2.0-S0378603X1500248X-gr4e.jpg  \n",
            "  inflating: train/corona/nCoV-Snohomish-20382862_web1_M1-Lungs-EDH-200201-640x300@2x.jpg  \n",
            "  inflating: train/normal/IM-0282-0001.jpeg  \n",
            "  inflating: train/corona/7D2CF6CE-F529-4470-8356-D33FFAF98600.jpeg  \n",
            "  inflating: train/normal/IM-0283-0001.jpeg  \n",
            "  inflating: train/corona/covid-19-pneumonia-14-L.png  \n",
            "  inflating: train/normal/IM-0203-0001.jpeg  \n",
            "  inflating: train/corona/E1724330-1866-4581-8CD8-CEC9B8AFEDDE.jpeg  \n",
            "  inflating: train/corona/353889E0-A1E8-4F9E-A0B8-F24F36BCFBFB.jpeg  \n",
            "  inflating: train/corona/ryct.2020200028.fig1a.jpeg  \n",
            "  inflating: train/corona/5A78BCA9-5B7A-440D-8A4E-AE7710EA6EAD.jpeg  \n",
            "  inflating: train/normal/IM-0201-0001.jpeg  \n",
            "  inflating: train/corona/446B2CB6-B572-40AB-B01F-1910CA07086A.jpeg  \n",
            "  inflating: train/normal/IM-0199-0001.jpeg  \n",
            "  inflating: train/corona/7E335538-2F86-424E-A0AB-6397783A38D0.jpeg  \n",
            "  inflating: train/corona/covid-19-pneumonia-14-PA.png  \n",
            "  inflating: train/corona/5CBC2E94-D358-401E-8928-965CCD965C5C.jpeg  \n",
            "  inflating: train/corona/covid-19-pneumonia-15-L.jpg  \n",
            "  inflating: train/corona/7EF28E12-F628-4BEC-A8C5-E6277C2E4F60.png  \n",
            "  inflating: train/corona/23E99E2E-447C-46E5-8EB2-D35D12473C39.png  \n",
            "  inflating: train/normal/IM-0324-0001.jpeg  \n",
            "  inflating: train/normal/IM-0217-0001.jpeg  \n",
            "  inflating: train/corona/covid-19-pneumonia-15-PA.jpg  \n",
            "  inflating: train/corona/covid-19-pneumonia-12.jpg  \n",
            "  inflating: train/corona/1F6343EE-AFEC-4B7D-97F5-62797EE18767.jpeg  \n",
            "  inflating: train/normal/IM-0170-0001.jpeg  \n",
            "  inflating: train/normal/IM-0278-0001.jpeg  \n",
            "  inflating: train/normal/IM-0312-0001.jpeg  \n",
            "  inflating: train/normal/IM-0276-0001.jpeg  \n",
            "  inflating: train/corona/2C10A413-AABE-4807-8CCE-6A2025594067.jpeg  \n",
            "  inflating: train/normal/IM-0293-0001.jpeg  \n",
            "  inflating: train/normal/IM-0277-0001.jpeg  \n",
            "  inflating: train/normal/IM-0245-0001.jpeg  \n",
            "  inflating: train/normal/IM-0314-0001.jpeg  \n",
            "  inflating: train/normal/IM-0315-0001.jpeg  \n",
            "  inflating: train/normal/IM-0164-0001.jpeg  \n",
            "  inflating: train/normal/IM-0262-0001.jpeg  \n",
            "  inflating: train/normal/IM-0166-0001.jpeg  \n",
            "  inflating: train/normal/IM-0286-0001.jpeg  \n",
            "  inflating: train/normal/IM-0316-0001.jpeg  \n",
            "  inflating: train/normal/IM-0137-0001.jpeg  \n",
            "  inflating: train/normal/IM-0240-0001.jpeg  \n",
            "  inflating: train/normal/IM-0211-0001.jpeg  \n",
            "  inflating: train/normal/IM-0303-0001.jpeg  \n",
            "  inflating: train/normal/IM-0300-0001.jpeg  \n",
            "  inflating: train/normal/IM-0242-0001.jpeg  \n",
            "  inflating: train/normal/IM-0249-0001.jpeg  \n",
            "  inflating: train/normal/IM-0172-0001.jpeg  \n",
            "  inflating: train/normal/IM-0160-0001.jpeg  \n",
            "  inflating: train/normal/IM-0235-0001.jpeg  \n",
            "  inflating: train/normal/IM-0183-0001.jpeg  \n",
            "  inflating: train/normal/IM-0221-0001.jpeg  \n",
            "  inflating: train/normal/IM-0253-0001.jpeg  \n",
            "  inflating: train/normal/IM-0220-0001.jpeg  \n",
            "  inflating: train/normal/IM-0257-0001.jpeg  \n",
            "  inflating: train/normal/IM-0295-0001.jpeg  \n",
            "  inflating: train/normal/IM-0289-0001.jpeg  \n",
            "  inflating: train/normal/IM-0230-0001.jpeg  \n",
            "  inflating: train/normal/IM-0279-0001.jpeg  \n",
            "  inflating: train/normal/IM-0205-0001.jpeg  \n",
            "  inflating: train/normal/IM-0251-0001.jpeg  \n",
            "  inflating: train/normal/IM-0239-0001.jpeg  \n"
          ],
          "name": "stdout"
        }
      ]
    },
    {
      "cell_type": "code",
      "metadata": {
        "id": "cI8Gk78aXjnG",
        "colab": {
          "base_uri": "https://localhost:8080/",
          "height": 120
        },
        "outputId": "3b0c45e6-3f9a-4855-ffd3-45b84c2c4192"
      },
      "source": [
        "#from google.colab import drive\n",
        "#drive.mount('/content/drive')"
      ],
      "execution_count": null,
      "outputs": [
        {
          "output_type": "stream",
          "text": [
            "Go to this URL in a browser: https://accounts.google.com/o/oauth2/auth?client_id=947318989803-6bn6qk8qdgf4n4g3pfee6491hc0brc4i.apps.googleusercontent.com&redirect_uri=urn%3aietf%3awg%3aoauth%3a2.0%3aoob&response_type=code&scope=email%20https%3a%2f%2fwww.googleapis.com%2fauth%2fdocs.test%20https%3a%2f%2fwww.googleapis.com%2fauth%2fdrive%20https%3a%2f%2fwww.googleapis.com%2fauth%2fdrive.photos.readonly%20https%3a%2f%2fwww.googleapis.com%2fauth%2fpeopleapi.readonly\n",
            "\n",
            "Enter your authorization code:\n",
            "··········\n",
            "Mounted at /content/drive\n"
          ],
          "name": "stdout"
        }
      ]
    },
    {
      "cell_type": "code",
      "metadata": {
        "id": "ujGIh9Y5BKw8",
        "colab": {
          "base_uri": "https://localhost:8080/",
          "height": 33
        },
        "outputId": "bde32bb4-a446-48bd-dccf-7fe056ea00bd"
      },
      "source": [
        "from google.colab import drive\n",
        "drive.mount('/content/drive')"
      ],
      "execution_count": null,
      "outputs": [
        {
          "output_type": "stream",
          "text": [
            "Drive already mounted at /content/drive; to attempt to forcibly remount, call drive.mount(\"/content/drive\", force_remount=True).\n"
          ],
          "name": "stdout"
        }
      ]
    },
    {
      "cell_type": "code",
      "metadata": {
        "id": "atyVcjZ6Ho9D",
        "colab": {
          "base_uri": "https://localhost:8080/",
          "height": 33
        },
        "outputId": "bfda46a1-19ef-43ca-cf46-151cedb7f31a"
      },
      "source": [
        "source = '/content/drive/My Drive/Kaggle data/Covid/Copy of covid_data.zip'\n",
        "print(os.path.exists(source))"
      ],
      "execution_count": null,
      "outputs": [
        {
          "output_type": "stream",
          "text": [
            "True\n"
          ],
          "name": "stdout"
        }
      ]
    },
    {
      "cell_type": "markdown",
      "metadata": {
        "id": "zC9HtHYDZ-BJ"
      },
      "source": [
        "Prepare the Data"
      ]
    },
    {
      "cell_type": "code",
      "metadata": {
        "id": "V6cesGYqIACy"
      },
      "source": [
        "train = 'train'"
      ],
      "execution_count": null,
      "outputs": []
    },
    {
      "cell_type": "code",
      "metadata": {
        "id": "EpCwB45wIYwS"
      },
      "source": [
        "val = 'val'\n",
        "test = 'test'"
      ],
      "execution_count": null,
      "outputs": []
    },
    {
      "cell_type": "code",
      "metadata": {
        "id": "DDz6kMsXIZ9e"
      },
      "source": [
        "gen = ImageDataGenerator(rescale=1./255, rotation_range=40, \n",
        "                         width_shift_range= 0.2,\n",
        "                         height_shift_range= 0.2,\n",
        "                         zoom_range = 0.2, \n",
        "                         shear_range= 0.2,\n",
        "                         fill_mode = 'nearest')\n",
        "                        "
      ],
      "execution_count": null,
      "outputs": []
    },
    {
      "cell_type": "code",
      "metadata": {
        "id": "zfvRVHADIsrc",
        "colab": {
          "base_uri": "https://localhost:8080/",
          "height": 33
        },
        "outputId": "663be5f0-4cb2-4b19-b479-87da53489438"
      },
      "source": [
        "train_gen = gen.flow_from_directory(train , target_size= (200,200) , class_mode='binary' , batch_size=20  )"
      ],
      "execution_count": null,
      "outputs": [
        {
          "output_type": "stream",
          "text": [
            "Found 244 images belonging to 2 classes.\n"
          ],
          "name": "stdout"
        }
      ]
    },
    {
      "cell_type": "code",
      "metadata": {
        "id": "WQbvPo-1JuSE",
        "colab": {
          "base_uri": "https://localhost:8080/",
          "height": 33
        },
        "outputId": "2521b266-7250-4939-cca9-4335785a612a"
      },
      "source": [
        "val_gen = gen.flow_from_directory(val , target_size=(200,200) , class_mode=\"binary\" , batch_size=20)"
      ],
      "execution_count": null,
      "outputs": [
        {
          "output_type": "stream",
          "text": [
            "Found 20 images belonging to 2 classes.\n"
          ],
          "name": "stdout"
        }
      ]
    },
    {
      "cell_type": "code",
      "metadata": {
        "id": "R-Y3yn1YKLa3"
      },
      "source": [
        "#Making MOdel \n",
        "model1 = models.Sequential()"
      ],
      "execution_count": null,
      "outputs": []
    },
    {
      "cell_type": "code",
      "metadata": {
        "id": "Kn-di2TYOkxe",
        "colab": {
          "base_uri": "https://localhost:8080/",
          "height": 301
        },
        "outputId": "8c7b3cf8-ed5c-41ea-e766-da5ee07cf1f1"
      },
      "source": [
        "counter =0\n",
        "for data_batch, labels_batch in train_gen:\n",
        "    print('data batch shape:', data_batch.shape)\n",
        "    print('labels batch shape:', labels_batch.shape)\n",
        "    print(labels_batch[counter])\n",
        "    counter += 1\n",
        "    print(counter)\n",
        "    if counter > 3:\n",
        "        break\n",
        "print(counter)"
      ],
      "execution_count": null,
      "outputs": [
        {
          "output_type": "stream",
          "text": [
            "data batch shape: (20, 200, 200, 3)\n",
            "labels batch shape: (20,)\n",
            "0.0\n",
            "1\n",
            "data batch shape: (20, 200, 200, 3)\n",
            "labels batch shape: (20,)\n",
            "1.0\n",
            "2\n",
            "data batch shape: (20, 200, 200, 3)\n",
            "labels batch shape: (20,)\n",
            "0.0\n",
            "3\n",
            "data batch shape: (20, 200, 200, 3)\n",
            "labels batch shape: (20,)\n",
            "1.0\n",
            "4\n",
            "4\n"
          ],
          "name": "stdout"
        }
      ]
    },
    {
      "cell_type": "code",
      "metadata": {
        "id": "Wj8scigjPSN9",
        "colab": {
          "base_uri": "https://localhost:8080/",
          "height": 33
        },
        "outputId": "40917cfe-e12c-40b4-bd8f-52414af89557"
      },
      "source": [
        "data_batch[0]\n",
        "labels_batch[0]"
      ],
      "execution_count": null,
      "outputs": [
        {
          "output_type": "execute_result",
          "data": {
            "text/plain": [
              "1.0"
            ]
          },
          "metadata": {
            "tags": []
          },
          "execution_count": 14
        }
      ]
    },
    {
      "cell_type": "markdown",
      "metadata": {
        "id": "mSmAXqlhaGyv"
      },
      "source": [
        "Making a Model "
      ]
    },
    {
      "cell_type": "code",
      "metadata": {
        "id": "L05TGci1PWtm"
      },
      "source": [
        "\n",
        "model = model1\n"
      ],
      "execution_count": null,
      "outputs": []
    },
    {
      "cell_type": "code",
      "metadata": {
        "id": "80TvaZHkSD9L",
        "colab": {
          "base_uri": "https://localhost:8080/",
          "height": 369
        },
        "outputId": "9bb5ca65-726f-4943-b1be-23d0db43becb"
      },
      "source": [
        "model.add(layers.Conv2D(32,(3,3), activation='relu' , input_shape = (200,200,3)))\n",
        "model.add(layers.Conv2D(32,(3,3), activation='relu'))\n",
        "model.add(layers.MaxPooling2D((2, 2)))\n",
        "model.add(layers.Conv2D(64, (3, 3), activation='relu'))\n",
        "model.add(layers.Conv2D(64, (3, 3), activation='relu'))\n",
        "model.add(layers.MaxPooling2D((2, 2)))\n",
        "model.add(layers.Conv2D(128, (3, 3), activation='relu'))\n",
        "model.add(layers.Conv2D(128, (3, 3), activation='relu'))\n",
        "model.add(layers.MaxPooling2D((2, 2)))\n",
        "model.add(layers.Conv2D(256, (3, 3), activation='relu'))\n",
        "model.add(layers.Conv2D(256, (3, 3), activation='relu'))\n",
        "model.add(layers.MaxPooling2D((2, 2)))\n",
        "model.add(layers.Flatten())\n",
        "model.add(layers.Dense(512, activation='relu'))\n",
        "model.add(layers.Dense(1, activation='sigmoid'))\n"
      ],
      "execution_count": null,
      "outputs": [
        {
          "output_type": "error",
          "ename": "ValueError",
          "evalue": "ignored",
          "traceback": [
            "\u001b[0;31m---------------------------------------------------------------------------\u001b[0m",
            "\u001b[0;31mValueError\u001b[0m                                Traceback (most recent call last)",
            "\u001b[0;32m<ipython-input-20-a87f1a7b8167>\u001b[0m in \u001b[0;36m<module>\u001b[0;34m()\u001b[0m\n\u001b[0;32m----> 1\u001b[0;31m \u001b[0mmodel\u001b[0m\u001b[0;34m.\u001b[0m\u001b[0madd\u001b[0m\u001b[0;34m(\u001b[0m\u001b[0mlayers\u001b[0m\u001b[0;34m.\u001b[0m\u001b[0mConv2D\u001b[0m\u001b[0;34m(\u001b[0m\u001b[0;36m32\u001b[0m\u001b[0;34m,\u001b[0m\u001b[0;34m(\u001b[0m\u001b[0;36m3\u001b[0m\u001b[0;34m,\u001b[0m\u001b[0;36m3\u001b[0m\u001b[0;34m)\u001b[0m\u001b[0;34m,\u001b[0m \u001b[0mactivation\u001b[0m\u001b[0;34m=\u001b[0m\u001b[0;34m'relu'\u001b[0m \u001b[0;34m,\u001b[0m \u001b[0minput_shape\u001b[0m \u001b[0;34m=\u001b[0m \u001b[0;34m(\u001b[0m\u001b[0;36m200\u001b[0m\u001b[0;34m,\u001b[0m\u001b[0;36m200\u001b[0m\u001b[0;34m,\u001b[0m\u001b[0;36m3\u001b[0m\u001b[0;34m)\u001b[0m\u001b[0;34m)\u001b[0m\u001b[0;34m)\u001b[0m\u001b[0;34m\u001b[0m\u001b[0;34m\u001b[0m\u001b[0m\n\u001b[0m\u001b[1;32m      2\u001b[0m \u001b[0mmodel\u001b[0m\u001b[0;34m.\u001b[0m\u001b[0madd\u001b[0m\u001b[0;34m(\u001b[0m\u001b[0mlayers\u001b[0m\u001b[0;34m.\u001b[0m\u001b[0mConv2D\u001b[0m\u001b[0;34m(\u001b[0m\u001b[0;36m32\u001b[0m\u001b[0;34m,\u001b[0m\u001b[0;34m(\u001b[0m\u001b[0;36m3\u001b[0m\u001b[0;34m,\u001b[0m\u001b[0;36m3\u001b[0m\u001b[0;34m)\u001b[0m\u001b[0;34m,\u001b[0m \u001b[0mactivation\u001b[0m\u001b[0;34m=\u001b[0m\u001b[0;34m'relu'\u001b[0m\u001b[0;34m)\u001b[0m\u001b[0;34m)\u001b[0m\u001b[0;34m\u001b[0m\u001b[0;34m\u001b[0m\u001b[0m\n\u001b[1;32m      3\u001b[0m \u001b[0mmodel\u001b[0m\u001b[0;34m.\u001b[0m\u001b[0madd\u001b[0m\u001b[0;34m(\u001b[0m\u001b[0mlayers\u001b[0m\u001b[0;34m.\u001b[0m\u001b[0mMaxPooling2D\u001b[0m\u001b[0;34m(\u001b[0m\u001b[0;34m(\u001b[0m\u001b[0;36m2\u001b[0m\u001b[0;34m,\u001b[0m \u001b[0;36m2\u001b[0m\u001b[0;34m)\u001b[0m\u001b[0;34m)\u001b[0m\u001b[0;34m)\u001b[0m\u001b[0;34m\u001b[0m\u001b[0;34m\u001b[0m\u001b[0m\n\u001b[1;32m      4\u001b[0m \u001b[0mmodel\u001b[0m\u001b[0;34m.\u001b[0m\u001b[0madd\u001b[0m\u001b[0;34m(\u001b[0m\u001b[0mlayers\u001b[0m\u001b[0;34m.\u001b[0m\u001b[0mConv2D\u001b[0m\u001b[0;34m(\u001b[0m\u001b[0;36m64\u001b[0m\u001b[0;34m,\u001b[0m \u001b[0;34m(\u001b[0m\u001b[0;36m3\u001b[0m\u001b[0;34m,\u001b[0m \u001b[0;36m3\u001b[0m\u001b[0;34m)\u001b[0m\u001b[0;34m,\u001b[0m \u001b[0mactivation\u001b[0m\u001b[0;34m=\u001b[0m\u001b[0;34m'relu'\u001b[0m\u001b[0;34m)\u001b[0m\u001b[0;34m)\u001b[0m\u001b[0;34m\u001b[0m\u001b[0;34m\u001b[0m\u001b[0m\n\u001b[1;32m      5\u001b[0m \u001b[0mmodel\u001b[0m\u001b[0;34m.\u001b[0m\u001b[0madd\u001b[0m\u001b[0;34m(\u001b[0m\u001b[0mlayers\u001b[0m\u001b[0;34m.\u001b[0m\u001b[0mConv2D\u001b[0m\u001b[0;34m(\u001b[0m\u001b[0;36m64\u001b[0m\u001b[0;34m,\u001b[0m \u001b[0;34m(\u001b[0m\u001b[0;36m3\u001b[0m\u001b[0;34m,\u001b[0m \u001b[0;36m3\u001b[0m\u001b[0;34m)\u001b[0m\u001b[0;34m,\u001b[0m \u001b[0mactivation\u001b[0m\u001b[0;34m=\u001b[0m\u001b[0;34m'relu'\u001b[0m\u001b[0;34m)\u001b[0m\u001b[0;34m)\u001b[0m\u001b[0;34m\u001b[0m\u001b[0;34m\u001b[0m\u001b[0m\n",
            "\u001b[0;32m/usr/local/lib/python3.6/dist-packages/keras/engine/sequential.py\u001b[0m in \u001b[0;36madd\u001b[0;34m(self, layer)\u001b[0m\n\u001b[1;32m    180\u001b[0m                 \u001b[0mself\u001b[0m\u001b[0;34m.\u001b[0m\u001b[0minputs\u001b[0m \u001b[0;34m=\u001b[0m \u001b[0mnetwork\u001b[0m\u001b[0;34m.\u001b[0m\u001b[0mget_source_inputs\u001b[0m\u001b[0;34m(\u001b[0m\u001b[0mself\u001b[0m\u001b[0;34m.\u001b[0m\u001b[0moutputs\u001b[0m\u001b[0;34m[\u001b[0m\u001b[0;36m0\u001b[0m\u001b[0;34m]\u001b[0m\u001b[0;34m)\u001b[0m\u001b[0;34m\u001b[0m\u001b[0;34m\u001b[0m\u001b[0m\n\u001b[1;32m    181\u001b[0m         \u001b[0;32melif\u001b[0m \u001b[0mself\u001b[0m\u001b[0;34m.\u001b[0m\u001b[0moutputs\u001b[0m\u001b[0;34m:\u001b[0m\u001b[0;34m\u001b[0m\u001b[0;34m\u001b[0m\u001b[0m\n\u001b[0;32m--> 182\u001b[0;31m             \u001b[0moutput_tensor\u001b[0m \u001b[0;34m=\u001b[0m \u001b[0mlayer\u001b[0m\u001b[0;34m(\u001b[0m\u001b[0mself\u001b[0m\u001b[0;34m.\u001b[0m\u001b[0moutputs\u001b[0m\u001b[0;34m[\u001b[0m\u001b[0;36m0\u001b[0m\u001b[0;34m]\u001b[0m\u001b[0;34m)\u001b[0m\u001b[0;34m\u001b[0m\u001b[0;34m\u001b[0m\u001b[0m\n\u001b[0m\u001b[1;32m    183\u001b[0m             \u001b[0;32mif\u001b[0m \u001b[0misinstance\u001b[0m\u001b[0;34m(\u001b[0m\u001b[0moutput_tensor\u001b[0m\u001b[0;34m,\u001b[0m \u001b[0mlist\u001b[0m\u001b[0;34m)\u001b[0m\u001b[0;34m:\u001b[0m\u001b[0;34m\u001b[0m\u001b[0;34m\u001b[0m\u001b[0m\n\u001b[1;32m    184\u001b[0m                 raise TypeError('All layers in a Sequential model '\n",
            "\u001b[0;32m/usr/local/lib/python3.6/dist-packages/keras/backend/tensorflow_backend.py\u001b[0m in \u001b[0;36msymbolic_fn_wrapper\u001b[0;34m(*args, **kwargs)\u001b[0m\n\u001b[1;32m     73\u001b[0m         \u001b[0;32mif\u001b[0m \u001b[0m_SYMBOLIC_SCOPE\u001b[0m\u001b[0;34m.\u001b[0m\u001b[0mvalue\u001b[0m\u001b[0;34m:\u001b[0m\u001b[0;34m\u001b[0m\u001b[0;34m\u001b[0m\u001b[0m\n\u001b[1;32m     74\u001b[0m             \u001b[0;32mwith\u001b[0m \u001b[0mget_graph\u001b[0m\u001b[0;34m(\u001b[0m\u001b[0;34m)\u001b[0m\u001b[0;34m.\u001b[0m\u001b[0mas_default\u001b[0m\u001b[0;34m(\u001b[0m\u001b[0;34m)\u001b[0m\u001b[0;34m:\u001b[0m\u001b[0;34m\u001b[0m\u001b[0;34m\u001b[0m\u001b[0m\n\u001b[0;32m---> 75\u001b[0;31m                 \u001b[0;32mreturn\u001b[0m \u001b[0mfunc\u001b[0m\u001b[0;34m(\u001b[0m\u001b[0;34m*\u001b[0m\u001b[0margs\u001b[0m\u001b[0;34m,\u001b[0m \u001b[0;34m**\u001b[0m\u001b[0mkwargs\u001b[0m\u001b[0;34m)\u001b[0m\u001b[0;34m\u001b[0m\u001b[0;34m\u001b[0m\u001b[0m\n\u001b[0m\u001b[1;32m     76\u001b[0m         \u001b[0;32melse\u001b[0m\u001b[0;34m:\u001b[0m\u001b[0;34m\u001b[0m\u001b[0;34m\u001b[0m\u001b[0m\n\u001b[1;32m     77\u001b[0m             \u001b[0;32mreturn\u001b[0m \u001b[0mfunc\u001b[0m\u001b[0;34m(\u001b[0m\u001b[0;34m*\u001b[0m\u001b[0margs\u001b[0m\u001b[0;34m,\u001b[0m \u001b[0;34m**\u001b[0m\u001b[0mkwargs\u001b[0m\u001b[0;34m)\u001b[0m\u001b[0;34m\u001b[0m\u001b[0;34m\u001b[0m\u001b[0m\n",
            "\u001b[0;32m/usr/local/lib/python3.6/dist-packages/keras/engine/base_layer.py\u001b[0m in \u001b[0;36m__call__\u001b[0;34m(self, inputs, **kwargs)\u001b[0m\n\u001b[1;32m    444\u001b[0m                 \u001b[0;31m# Raise exceptions in case the input is not compatible\u001b[0m\u001b[0;34m\u001b[0m\u001b[0;34m\u001b[0m\u001b[0;34m\u001b[0m\u001b[0m\n\u001b[1;32m    445\u001b[0m                 \u001b[0;31m# with the input_spec specified in the layer constructor.\u001b[0m\u001b[0;34m\u001b[0m\u001b[0;34m\u001b[0m\u001b[0;34m\u001b[0m\u001b[0m\n\u001b[0;32m--> 446\u001b[0;31m                 \u001b[0mself\u001b[0m\u001b[0;34m.\u001b[0m\u001b[0massert_input_compatibility\u001b[0m\u001b[0;34m(\u001b[0m\u001b[0minputs\u001b[0m\u001b[0;34m)\u001b[0m\u001b[0;34m\u001b[0m\u001b[0;34m\u001b[0m\u001b[0m\n\u001b[0m\u001b[1;32m    447\u001b[0m \u001b[0;34m\u001b[0m\u001b[0m\n\u001b[1;32m    448\u001b[0m                 \u001b[0;31m# Collect input shapes to build layer.\u001b[0m\u001b[0;34m\u001b[0m\u001b[0;34m\u001b[0m\u001b[0;34m\u001b[0m\u001b[0m\n",
            "\u001b[0;32m/usr/local/lib/python3.6/dist-packages/keras/engine/base_layer.py\u001b[0m in \u001b[0;36massert_input_compatibility\u001b[0;34m(self, inputs)\u001b[0m\n\u001b[1;32m    340\u001b[0m                                      \u001b[0mself\u001b[0m\u001b[0;34m.\u001b[0m\u001b[0mname\u001b[0m \u001b[0;34m+\u001b[0m \u001b[0;34m': expected ndim='\u001b[0m \u001b[0;34m+\u001b[0m\u001b[0;34m\u001b[0m\u001b[0;34m\u001b[0m\u001b[0m\n\u001b[1;32m    341\u001b[0m                                      \u001b[0mstr\u001b[0m\u001b[0;34m(\u001b[0m\u001b[0mspec\u001b[0m\u001b[0;34m.\u001b[0m\u001b[0mndim\u001b[0m\u001b[0;34m)\u001b[0m \u001b[0;34m+\u001b[0m \u001b[0;34m', found ndim='\u001b[0m \u001b[0;34m+\u001b[0m\u001b[0;34m\u001b[0m\u001b[0;34m\u001b[0m\u001b[0m\n\u001b[0;32m--> 342\u001b[0;31m                                      str(K.ndim(x)))\n\u001b[0m\u001b[1;32m    343\u001b[0m             \u001b[0;32mif\u001b[0m \u001b[0mspec\u001b[0m\u001b[0;34m.\u001b[0m\u001b[0mmax_ndim\u001b[0m \u001b[0;32mis\u001b[0m \u001b[0;32mnot\u001b[0m \u001b[0;32mNone\u001b[0m\u001b[0;34m:\u001b[0m\u001b[0;34m\u001b[0m\u001b[0;34m\u001b[0m\u001b[0m\n\u001b[1;32m    344\u001b[0m                 \u001b[0mndim\u001b[0m \u001b[0;34m=\u001b[0m \u001b[0mK\u001b[0m\u001b[0;34m.\u001b[0m\u001b[0mndim\u001b[0m\u001b[0;34m(\u001b[0m\u001b[0mx\u001b[0m\u001b[0;34m)\u001b[0m\u001b[0;34m\u001b[0m\u001b[0;34m\u001b[0m\u001b[0m\n",
            "\u001b[0;31mValueError\u001b[0m: Input 0 is incompatible with layer conv2d_9: expected ndim=4, found ndim=2"
          ]
        }
      ]
    },
    {
      "cell_type": "code",
      "metadata": {
        "id": "-I2MLL44T_Rz",
        "colab": {
          "base_uri": "https://localhost:8080/",
          "height": 786
        },
        "outputId": "b9df19e2-a040-4cf0-84d6-01b3e0035edd"
      },
      "source": [
        "model.summary()"
      ],
      "execution_count": null,
      "outputs": [
        {
          "output_type": "stream",
          "text": [
            "Model: \"sequential_1\"\n",
            "_________________________________________________________________\n",
            "Layer (type)                 Output Shape              Param #   \n",
            "=================================================================\n",
            "conv2d_1 (Conv2D)            (None, 198, 198, 32)      896       \n",
            "_________________________________________________________________\n",
            "conv2d_2 (Conv2D)            (None, 196, 196, 32)      9248      \n",
            "_________________________________________________________________\n",
            "max_pooling2d_1 (MaxPooling2 (None, 98, 98, 32)        0         \n",
            "_________________________________________________________________\n",
            "batch_normalization_1 (Batch (None, 98, 98, 32)        128       \n",
            "_________________________________________________________________\n",
            "conv2d_3 (Conv2D)            (None, 96, 96, 64)        18496     \n",
            "_________________________________________________________________\n",
            "conv2d_4 (Conv2D)            (None, 94, 94, 64)        36928     \n",
            "_________________________________________________________________\n",
            "max_pooling2d_2 (MaxPooling2 (None, 47, 47, 64)        0         \n",
            "_________________________________________________________________\n",
            "batch_normalization_2 (Batch (None, 47, 47, 64)        256       \n",
            "_________________________________________________________________\n",
            "conv2d_5 (Conv2D)            (None, 45, 45, 128)       73856     \n",
            "_________________________________________________________________\n",
            "conv2d_6 (Conv2D)            (None, 43, 43, 128)       147584    \n",
            "_________________________________________________________________\n",
            "max_pooling2d_3 (MaxPooling2 (None, 21, 21, 128)       0         \n",
            "_________________________________________________________________\n",
            "batch_normalization_3 (Batch (None, 21, 21, 128)       512       \n",
            "_________________________________________________________________\n",
            "conv2d_7 (Conv2D)            (None, 19, 19, 256)       295168    \n",
            "_________________________________________________________________\n",
            "conv2d_8 (Conv2D)            (None, 17, 17, 256)       590080    \n",
            "_________________________________________________________________\n",
            "max_pooling2d_4 (MaxPooling2 (None, 8, 8, 256)         0         \n",
            "_________________________________________________________________\n",
            "flatten_1 (Flatten)          (None, 16384)             0         \n",
            "_________________________________________________________________\n",
            "batch_normalization_4 (Batch (None, 16384)             65536     \n",
            "_________________________________________________________________\n",
            "dense_1 (Dense)              (None, 512)               8389120   \n",
            "_________________________________________________________________\n",
            "dense_2 (Dense)              (None, 1)                 513       \n",
            "=================================================================\n",
            "Total params: 9,628,321\n",
            "Trainable params: 9,595,105\n",
            "Non-trainable params: 33,216\n",
            "_________________________________________________________________\n"
          ],
          "name": "stdout"
        }
      ]
    },
    {
      "cell_type": "markdown",
      "metadata": {
        "id": "iASy93VtaLP-"
      },
      "source": [
        "Compile Model "
      ]
    },
    {
      "cell_type": "code",
      "metadata": {
        "id": "9O6ju5d0T_Ou"
      },
      "source": [
        "model.compile(optimizer=optimizers.RMSprop(lr=1e-4) ,\n",
        "              loss=\"binary_crossentropy\" , \n",
        "              metrics= ['acc'])"
      ],
      "execution_count": null,
      "outputs": []
    },
    {
      "cell_type": "code",
      "metadata": {
        "id": "cGMhH9Y3Q7Bh",
        "colab": {
          "base_uri": "https://localhost:8080/",
          "height": 403
        },
        "outputId": "577ad012-e878-4478-fa5e-1b06eb0ebcdb"
      },
      "source": [
        "history = model.fit(train_gen,steps_per_epoch=70,epochs=10, validation_data=val_gen, validation_steps=30)"
      ],
      "execution_count": null,
      "outputs": [
        {
          "output_type": "stream",
          "text": [
            "Epoch 1/10\n",
            "70/70 [==============================] - 71s 1s/step - loss: 0.2720 - acc: 0.9220 - val_loss: 5.3348 - val_acc: 0.5000\n",
            "Epoch 2/10\n",
            "70/70 [==============================] - 62s 884ms/step - loss: 0.2143 - acc: 0.9425 - val_loss: 10.3963 - val_acc: 0.5000\n",
            "Epoch 3/10\n",
            " 9/70 [==>...........................] - ETA: 28s - loss: 0.1187 - acc: 0.9573"
          ],
          "name": "stdout"
        },
        {
          "output_type": "error",
          "ename": "KeyboardInterrupt",
          "evalue": "ignored",
          "traceback": [
            "\u001b[0;31m---------------------------------------------------------------------------\u001b[0m",
            "\u001b[0;31mKeyboardInterrupt\u001b[0m                         Traceback (most recent call last)",
            "\u001b[0;32m<ipython-input-19-1e197a7ed842>\u001b[0m in \u001b[0;36m<module>\u001b[0;34m()\u001b[0m\n\u001b[0;32m----> 1\u001b[0;31m \u001b[0mhistory\u001b[0m \u001b[0;34m=\u001b[0m \u001b[0mmodel\u001b[0m\u001b[0;34m.\u001b[0m\u001b[0mfit\u001b[0m\u001b[0;34m(\u001b[0m\u001b[0mtrain_gen\u001b[0m\u001b[0;34m,\u001b[0m\u001b[0msteps_per_epoch\u001b[0m\u001b[0;34m=\u001b[0m\u001b[0;36m70\u001b[0m\u001b[0;34m,\u001b[0m\u001b[0mepochs\u001b[0m\u001b[0;34m=\u001b[0m\u001b[0;36m10\u001b[0m\u001b[0;34m,\u001b[0m \u001b[0mvalidation_data\u001b[0m\u001b[0;34m=\u001b[0m\u001b[0mval_gen\u001b[0m\u001b[0;34m,\u001b[0m \u001b[0mvalidation_steps\u001b[0m\u001b[0;34m=\u001b[0m\u001b[0;36m30\u001b[0m\u001b[0;34m)\u001b[0m\u001b[0;34m\u001b[0m\u001b[0;34m\u001b[0m\u001b[0m\n\u001b[0m",
            "\u001b[0;32m/usr/local/lib/python3.6/dist-packages/keras/engine/training.py\u001b[0m in \u001b[0;36mfit\u001b[0;34m(self, x, y, batch_size, epochs, verbose, callbacks, validation_split, validation_data, shuffle, class_weight, sample_weight, initial_epoch, steps_per_epoch, validation_steps, validation_freq, max_queue_size, workers, use_multiprocessing, **kwargs)\u001b[0m\n\u001b[1;32m   1145\u001b[0m                 \u001b[0muse_multiprocessing\u001b[0m\u001b[0;34m=\u001b[0m\u001b[0muse_multiprocessing\u001b[0m\u001b[0;34m,\u001b[0m\u001b[0;34m\u001b[0m\u001b[0;34m\u001b[0m\u001b[0m\n\u001b[1;32m   1146\u001b[0m                 \u001b[0mshuffle\u001b[0m\u001b[0;34m=\u001b[0m\u001b[0mshuffle\u001b[0m\u001b[0;34m,\u001b[0m\u001b[0;34m\u001b[0m\u001b[0;34m\u001b[0m\u001b[0m\n\u001b[0;32m-> 1147\u001b[0;31m                 initial_epoch=initial_epoch)\n\u001b[0m\u001b[1;32m   1148\u001b[0m \u001b[0;34m\u001b[0m\u001b[0m\n\u001b[1;32m   1149\u001b[0m         \u001b[0;31m# Case 2: Symbolic tensors or Numpy array-like.\u001b[0m\u001b[0;34m\u001b[0m\u001b[0;34m\u001b[0m\u001b[0;34m\u001b[0m\u001b[0m\n",
            "\u001b[0;32m/usr/local/lib/python3.6/dist-packages/keras/legacy/interfaces.py\u001b[0m in \u001b[0;36mwrapper\u001b[0;34m(*args, **kwargs)\u001b[0m\n\u001b[1;32m     89\u001b[0m                 warnings.warn('Update your `' + object_name + '` call to the ' +\n\u001b[1;32m     90\u001b[0m                               'Keras 2 API: ' + signature, stacklevel=2)\n\u001b[0;32m---> 91\u001b[0;31m             \u001b[0;32mreturn\u001b[0m \u001b[0mfunc\u001b[0m\u001b[0;34m(\u001b[0m\u001b[0;34m*\u001b[0m\u001b[0margs\u001b[0m\u001b[0;34m,\u001b[0m \u001b[0;34m**\u001b[0m\u001b[0mkwargs\u001b[0m\u001b[0;34m)\u001b[0m\u001b[0;34m\u001b[0m\u001b[0;34m\u001b[0m\u001b[0m\n\u001b[0m\u001b[1;32m     92\u001b[0m         \u001b[0mwrapper\u001b[0m\u001b[0;34m.\u001b[0m\u001b[0m_original_function\u001b[0m \u001b[0;34m=\u001b[0m \u001b[0mfunc\u001b[0m\u001b[0;34m\u001b[0m\u001b[0;34m\u001b[0m\u001b[0m\n\u001b[1;32m     93\u001b[0m         \u001b[0;32mreturn\u001b[0m \u001b[0mwrapper\u001b[0m\u001b[0;34m\u001b[0m\u001b[0;34m\u001b[0m\u001b[0m\n",
            "\u001b[0;32m/usr/local/lib/python3.6/dist-packages/keras/engine/training.py\u001b[0m in \u001b[0;36mfit_generator\u001b[0;34m(self, generator, steps_per_epoch, epochs, verbose, callbacks, validation_data, validation_steps, validation_freq, class_weight, max_queue_size, workers, use_multiprocessing, shuffle, initial_epoch)\u001b[0m\n\u001b[1;32m   1730\u001b[0m             \u001b[0muse_multiprocessing\u001b[0m\u001b[0;34m=\u001b[0m\u001b[0muse_multiprocessing\u001b[0m\u001b[0;34m,\u001b[0m\u001b[0;34m\u001b[0m\u001b[0;34m\u001b[0m\u001b[0m\n\u001b[1;32m   1731\u001b[0m             \u001b[0mshuffle\u001b[0m\u001b[0;34m=\u001b[0m\u001b[0mshuffle\u001b[0m\u001b[0;34m,\u001b[0m\u001b[0;34m\u001b[0m\u001b[0;34m\u001b[0m\u001b[0m\n\u001b[0;32m-> 1732\u001b[0;31m             initial_epoch=initial_epoch)\n\u001b[0m\u001b[1;32m   1733\u001b[0m \u001b[0;34m\u001b[0m\u001b[0m\n\u001b[1;32m   1734\u001b[0m     \u001b[0;34m@\u001b[0m\u001b[0minterfaces\u001b[0m\u001b[0;34m.\u001b[0m\u001b[0mlegacy_generator_methods_support\u001b[0m\u001b[0;34m\u001b[0m\u001b[0;34m\u001b[0m\u001b[0m\n",
            "\u001b[0;32m/usr/local/lib/python3.6/dist-packages/keras/engine/training_generator.py\u001b[0m in \u001b[0;36mfit_generator\u001b[0;34m(model, generator, steps_per_epoch, epochs, verbose, callbacks, validation_data, validation_steps, validation_freq, class_weight, max_queue_size, workers, use_multiprocessing, shuffle, initial_epoch)\u001b[0m\n\u001b[1;32m    183\u001b[0m             \u001b[0mbatch_index\u001b[0m \u001b[0;34m=\u001b[0m \u001b[0;36m0\u001b[0m\u001b[0;34m\u001b[0m\u001b[0;34m\u001b[0m\u001b[0m\n\u001b[1;32m    184\u001b[0m             \u001b[0;32mwhile\u001b[0m \u001b[0msteps_done\u001b[0m \u001b[0;34m<\u001b[0m \u001b[0msteps_per_epoch\u001b[0m\u001b[0;34m:\u001b[0m\u001b[0;34m\u001b[0m\u001b[0;34m\u001b[0m\u001b[0m\n\u001b[0;32m--> 185\u001b[0;31m                 \u001b[0mgenerator_output\u001b[0m \u001b[0;34m=\u001b[0m \u001b[0mnext\u001b[0m\u001b[0;34m(\u001b[0m\u001b[0moutput_generator\u001b[0m\u001b[0;34m)\u001b[0m\u001b[0;34m\u001b[0m\u001b[0;34m\u001b[0m\u001b[0m\n\u001b[0m\u001b[1;32m    186\u001b[0m \u001b[0;34m\u001b[0m\u001b[0m\n\u001b[1;32m    187\u001b[0m                 \u001b[0;32mif\u001b[0m \u001b[0;32mnot\u001b[0m \u001b[0mhasattr\u001b[0m\u001b[0;34m(\u001b[0m\u001b[0mgenerator_output\u001b[0m\u001b[0;34m,\u001b[0m \u001b[0;34m'__len__'\u001b[0m\u001b[0;34m)\u001b[0m\u001b[0;34m:\u001b[0m\u001b[0;34m\u001b[0m\u001b[0;34m\u001b[0m\u001b[0m\n",
            "\u001b[0;32m/usr/local/lib/python3.6/dist-packages/keras/utils/data_utils.py\u001b[0m in \u001b[0;36mget\u001b[0;34m(self)\u001b[0m\n\u001b[1;32m    608\u001b[0m                 \u001b[0;32mtry\u001b[0m\u001b[0;34m:\u001b[0m\u001b[0;34m\u001b[0m\u001b[0;34m\u001b[0m\u001b[0m\n\u001b[1;32m    609\u001b[0m                     \u001b[0mfuture\u001b[0m \u001b[0;34m=\u001b[0m \u001b[0mself\u001b[0m\u001b[0;34m.\u001b[0m\u001b[0mqueue\u001b[0m\u001b[0;34m.\u001b[0m\u001b[0mget\u001b[0m\u001b[0;34m(\u001b[0m\u001b[0mblock\u001b[0m\u001b[0;34m=\u001b[0m\u001b[0;32mTrue\u001b[0m\u001b[0;34m)\u001b[0m\u001b[0;34m\u001b[0m\u001b[0;34m\u001b[0m\u001b[0m\n\u001b[0;32m--> 610\u001b[0;31m                     \u001b[0minputs\u001b[0m \u001b[0;34m=\u001b[0m \u001b[0mfuture\u001b[0m\u001b[0;34m.\u001b[0m\u001b[0mget\u001b[0m\u001b[0;34m(\u001b[0m\u001b[0mtimeout\u001b[0m\u001b[0;34m=\u001b[0m\u001b[0;36m30\u001b[0m\u001b[0;34m)\u001b[0m\u001b[0;34m\u001b[0m\u001b[0;34m\u001b[0m\u001b[0m\n\u001b[0m\u001b[1;32m    611\u001b[0m                 \u001b[0;32mexcept\u001b[0m \u001b[0mmp\u001b[0m\u001b[0;34m.\u001b[0m\u001b[0mTimeoutError\u001b[0m\u001b[0;34m:\u001b[0m\u001b[0;34m\u001b[0m\u001b[0;34m\u001b[0m\u001b[0m\n\u001b[1;32m    612\u001b[0m                     \u001b[0midx\u001b[0m \u001b[0;34m=\u001b[0m \u001b[0mfuture\u001b[0m\u001b[0;34m.\u001b[0m\u001b[0midx\u001b[0m\u001b[0;34m\u001b[0m\u001b[0;34m\u001b[0m\u001b[0m\n",
            "\u001b[0;32m/usr/lib/python3.6/multiprocessing/pool.py\u001b[0m in \u001b[0;36mget\u001b[0;34m(self, timeout)\u001b[0m\n\u001b[1;32m    636\u001b[0m \u001b[0;34m\u001b[0m\u001b[0m\n\u001b[1;32m    637\u001b[0m     \u001b[0;32mdef\u001b[0m \u001b[0mget\u001b[0m\u001b[0;34m(\u001b[0m\u001b[0mself\u001b[0m\u001b[0;34m,\u001b[0m \u001b[0mtimeout\u001b[0m\u001b[0;34m=\u001b[0m\u001b[0;32mNone\u001b[0m\u001b[0;34m)\u001b[0m\u001b[0;34m:\u001b[0m\u001b[0;34m\u001b[0m\u001b[0;34m\u001b[0m\u001b[0m\n\u001b[0;32m--> 638\u001b[0;31m         \u001b[0mself\u001b[0m\u001b[0;34m.\u001b[0m\u001b[0mwait\u001b[0m\u001b[0;34m(\u001b[0m\u001b[0mtimeout\u001b[0m\u001b[0;34m)\u001b[0m\u001b[0;34m\u001b[0m\u001b[0;34m\u001b[0m\u001b[0m\n\u001b[0m\u001b[1;32m    639\u001b[0m         \u001b[0;32mif\u001b[0m \u001b[0;32mnot\u001b[0m \u001b[0mself\u001b[0m\u001b[0;34m.\u001b[0m\u001b[0mready\u001b[0m\u001b[0;34m(\u001b[0m\u001b[0;34m)\u001b[0m\u001b[0;34m:\u001b[0m\u001b[0;34m\u001b[0m\u001b[0;34m\u001b[0m\u001b[0m\n\u001b[1;32m    640\u001b[0m             \u001b[0;32mraise\u001b[0m \u001b[0mTimeoutError\u001b[0m\u001b[0;34m\u001b[0m\u001b[0;34m\u001b[0m\u001b[0m\n",
            "\u001b[0;32m/usr/lib/python3.6/multiprocessing/pool.py\u001b[0m in \u001b[0;36mwait\u001b[0;34m(self, timeout)\u001b[0m\n\u001b[1;32m    633\u001b[0m \u001b[0;34m\u001b[0m\u001b[0m\n\u001b[1;32m    634\u001b[0m     \u001b[0;32mdef\u001b[0m \u001b[0mwait\u001b[0m\u001b[0;34m(\u001b[0m\u001b[0mself\u001b[0m\u001b[0;34m,\u001b[0m \u001b[0mtimeout\u001b[0m\u001b[0;34m=\u001b[0m\u001b[0;32mNone\u001b[0m\u001b[0;34m)\u001b[0m\u001b[0;34m:\u001b[0m\u001b[0;34m\u001b[0m\u001b[0;34m\u001b[0m\u001b[0m\n\u001b[0;32m--> 635\u001b[0;31m         \u001b[0mself\u001b[0m\u001b[0;34m.\u001b[0m\u001b[0m_event\u001b[0m\u001b[0;34m.\u001b[0m\u001b[0mwait\u001b[0m\u001b[0;34m(\u001b[0m\u001b[0mtimeout\u001b[0m\u001b[0;34m)\u001b[0m\u001b[0;34m\u001b[0m\u001b[0;34m\u001b[0m\u001b[0m\n\u001b[0m\u001b[1;32m    636\u001b[0m \u001b[0;34m\u001b[0m\u001b[0m\n\u001b[1;32m    637\u001b[0m     \u001b[0;32mdef\u001b[0m \u001b[0mget\u001b[0m\u001b[0;34m(\u001b[0m\u001b[0mself\u001b[0m\u001b[0;34m,\u001b[0m \u001b[0mtimeout\u001b[0m\u001b[0;34m=\u001b[0m\u001b[0;32mNone\u001b[0m\u001b[0;34m)\u001b[0m\u001b[0;34m:\u001b[0m\u001b[0;34m\u001b[0m\u001b[0;34m\u001b[0m\u001b[0m\n",
            "\u001b[0;32m/usr/lib/python3.6/threading.py\u001b[0m in \u001b[0;36mwait\u001b[0;34m(self, timeout)\u001b[0m\n\u001b[1;32m    549\u001b[0m             \u001b[0msignaled\u001b[0m \u001b[0;34m=\u001b[0m \u001b[0mself\u001b[0m\u001b[0;34m.\u001b[0m\u001b[0m_flag\u001b[0m\u001b[0;34m\u001b[0m\u001b[0;34m\u001b[0m\u001b[0m\n\u001b[1;32m    550\u001b[0m             \u001b[0;32mif\u001b[0m \u001b[0;32mnot\u001b[0m \u001b[0msignaled\u001b[0m\u001b[0;34m:\u001b[0m\u001b[0;34m\u001b[0m\u001b[0;34m\u001b[0m\u001b[0m\n\u001b[0;32m--> 551\u001b[0;31m                 \u001b[0msignaled\u001b[0m \u001b[0;34m=\u001b[0m \u001b[0mself\u001b[0m\u001b[0;34m.\u001b[0m\u001b[0m_cond\u001b[0m\u001b[0;34m.\u001b[0m\u001b[0mwait\u001b[0m\u001b[0;34m(\u001b[0m\u001b[0mtimeout\u001b[0m\u001b[0;34m)\u001b[0m\u001b[0;34m\u001b[0m\u001b[0;34m\u001b[0m\u001b[0m\n\u001b[0m\u001b[1;32m    552\u001b[0m             \u001b[0;32mreturn\u001b[0m \u001b[0msignaled\u001b[0m\u001b[0;34m\u001b[0m\u001b[0;34m\u001b[0m\u001b[0m\n\u001b[1;32m    553\u001b[0m \u001b[0;34m\u001b[0m\u001b[0m\n",
            "\u001b[0;32m/usr/lib/python3.6/threading.py\u001b[0m in \u001b[0;36mwait\u001b[0;34m(self, timeout)\u001b[0m\n\u001b[1;32m    297\u001b[0m             \u001b[0;32melse\u001b[0m\u001b[0;34m:\u001b[0m\u001b[0;34m\u001b[0m\u001b[0;34m\u001b[0m\u001b[0m\n\u001b[1;32m    298\u001b[0m                 \u001b[0;32mif\u001b[0m \u001b[0mtimeout\u001b[0m \u001b[0;34m>\u001b[0m \u001b[0;36m0\u001b[0m\u001b[0;34m:\u001b[0m\u001b[0;34m\u001b[0m\u001b[0;34m\u001b[0m\u001b[0m\n\u001b[0;32m--> 299\u001b[0;31m                     \u001b[0mgotit\u001b[0m \u001b[0;34m=\u001b[0m \u001b[0mwaiter\u001b[0m\u001b[0;34m.\u001b[0m\u001b[0macquire\u001b[0m\u001b[0;34m(\u001b[0m\u001b[0;32mTrue\u001b[0m\u001b[0;34m,\u001b[0m \u001b[0mtimeout\u001b[0m\u001b[0;34m)\u001b[0m\u001b[0;34m\u001b[0m\u001b[0;34m\u001b[0m\u001b[0m\n\u001b[0m\u001b[1;32m    300\u001b[0m                 \u001b[0;32melse\u001b[0m\u001b[0;34m:\u001b[0m\u001b[0;34m\u001b[0m\u001b[0;34m\u001b[0m\u001b[0m\n\u001b[1;32m    301\u001b[0m                     \u001b[0mgotit\u001b[0m \u001b[0;34m=\u001b[0m \u001b[0mwaiter\u001b[0m\u001b[0;34m.\u001b[0m\u001b[0macquire\u001b[0m\u001b[0;34m(\u001b[0m\u001b[0;32mFalse\u001b[0m\u001b[0;34m)\u001b[0m\u001b[0;34m\u001b[0m\u001b[0;34m\u001b[0m\u001b[0m\n",
            "\u001b[0;31mKeyboardInterrupt\u001b[0m: "
          ]
        }
      ]
    },
    {
      "cell_type": "markdown",
      "metadata": {
        "id": "HF6t--EtaP60"
      },
      "source": [
        "Prepare test Data"
      ]
    },
    {
      "cell_type": "code",
      "metadata": {
        "id": "28EaWx6YU1n8",
        "colab": {
          "base_uri": "https://localhost:8080/",
          "height": 35
        },
        "outputId": "47ab0aff-e73a-498c-e351-9e0e242b61a1"
      },
      "source": [
        "test_gen = gen.flow_from_directory(test , target_size=(200,200) , class_mode='binary' , batch_size= 20)\n",
        "                                   "
      ],
      "execution_count": null,
      "outputs": [
        {
          "output_type": "stream",
          "text": [
            "Found 20 images belonging to 2 classes.\n"
          ],
          "name": "stdout"
        }
      ]
    },
    {
      "cell_type": "code",
      "metadata": {
        "id": "W7fJJpNvjxBq",
        "colab": {
          "base_uri": "https://localhost:8080/",
          "height": 319
        },
        "outputId": "e3a4797c-b9bc-4e4d-f265-30cfb5879d6e"
      },
      "source": [
        "counter =0\n",
        "for data_b, labels_b in test_gen:\n",
        "    print('data batch shape:', data_batch.shape)\n",
        "    print('labels batch shape:', labels_batch.shape)\n",
        "    print(labels_batch[counter])\n",
        "    counter += 1\n",
        "    print(counter)\n",
        "    if counter > 3:\n",
        "        break\n",
        "print(counter)"
      ],
      "execution_count": null,
      "outputs": [
        {
          "output_type": "stream",
          "text": [
            "data batch shape: (20, 200, 200, 3)\n",
            "labels batch shape: (20,)\n",
            "1.0\n",
            "1\n",
            "data batch shape: (20, 200, 200, 3)\n",
            "labels batch shape: (20,)\n",
            "0.0\n",
            "2\n",
            "data batch shape: (20, 200, 200, 3)\n",
            "labels batch shape: (20,)\n",
            "1.0\n",
            "3\n",
            "data batch shape: (20, 200, 200, 3)\n",
            "labels batch shape: (20,)\n",
            "0.0\n",
            "4\n",
            "4\n"
          ],
          "name": "stdout"
        }
      ]
    },
    {
      "cell_type": "code",
      "metadata": {
        "id": "URHZR0ZgkAbQ",
        "colab": {
          "base_uri": "https://localhost:8080/",
          "height": 545
        },
        "outputId": "308e5a75-3c2d-4ca4-9278-8820bb1269c3"
      },
      "source": [
        "%matplotlib inline  \n",
        "import matplotlib.pyplot as plt\n",
        "history = history.history\n",
        "acc = history['acc']\n",
        "val_acc = history['val_acc']\n",
        "loss = history['loss']\n",
        "val_loss = history['val_loss']\n",
        "epochs = range(1, len(acc) + 1)\n",
        "plt.plot(epochs, acc, 'bo', label='Training acc')\n",
        "plt.plot(epochs, val_acc, 'b', label='Validation acc')\n",
        "plt.title('Training and validation accuracy')\n",
        "plt.legend()\n",
        "plt.figure()\n",
        "plt.plot(epochs, loss, 'bo', label='Training loss')\n",
        "plt.plot(epochs, val_loss, 'b', label='Validation loss')\n",
        "plt.title('Training and validation loss')\n",
        "plt.legend()\n",
        "plt.show()\n"
      ],
      "execution_count": null,
      "outputs": [
        {
          "output_type": "display_data",
          "data": {
            "image/png": "[encoded data removed]",
            "text/plain": [
              "<Figure size 432x288 with 1 Axes>"
            ]
          },
          "metadata": {
            "tags": [],
            "needs_background": "light"
          }
        },
        {
          "output_type": "display_data",
          "data": {
            "image/png": "[encoded data removed]",
            "text/plain": [
              "<Figure size 432x288 with 1 Axes>"
            ]
          },
          "metadata": {
            "tags": [],
            "needs_background": "light"
          }
        }
      ]
    },
    {
      "cell_type": "markdown",
      "metadata": {
        "id": "fXwZVnNraXHw"
      },
      "source": [
        "Test a single Image of Corona and non corona x-ray "
      ]
    },
    {
      "cell_type": "code",
      "metadata": {
        "id": "YDazADBV2jwo"
      },
      "source": [
        "d = 'test/normal/IM-0131-0001.jpeg' # non corona image\n",
        "f = \"test/corona/SARS-10.1148rg.242035193-g04mr34g09b-Fig9b-day19.jpeg\"  # corona image"
      ],
      "execution_count": null,
      "outputs": []
    },
    {
      "cell_type": "code",
      "metadata": {
        "id": "sWg3LaSy3SpK"
      },
      "source": [
        "t = image.load_img(d ,target_size=(200,200))\n",
        "t= image.img_to_array(t)\n",
        "t = np.expand_dims(t , axis=0)\n",
        "t/= 255.\n",
        "\n",
        "tf = image.load_img(f ,target_size=(200,200))\n",
        "tf= image.img_to_array(tf)\n",
        "tf = np.expand_dims(tf , axis=0)\n",
        "tf/= 255."
      ],
      "execution_count": null,
      "outputs": []
    },
    {
      "cell_type": "code",
      "metadata": {
        "id": "P2NPXAth3woC",
        "colab": {
          "base_uri": "https://localhost:8080/",
          "height": 551
        },
        "outputId": "d64b9e45-34f3-4b3c-81ca-640134d45c1d"
      },
      "source": [
        "plt.matshow(t[0]) # non corona image\n",
        "plt.matshow(tf[0]) # corona image"
      ],
      "execution_count": null,
      "outputs": [
        {
          "output_type": "execute_result",
          "data": {
            "text/plain": [
              "<matplotlib.image.AxesImage at 0x7f74e0090630>"
            ]
          },
          "metadata": {
            "tags": []
          },
          "execution_count": 28
        },
        {
          "output_type": "display_data",
          "data": {
            "image/png": "[encoded data removed]",
            "text/plain": [
              "<Figure size 288x288 with 1 Axes>"
            ]
          },
          "metadata": {
            "tags": [],
            "needs_background": "light"
          }
        },
        {
          "output_type": "display_data",
          "data": {
            "image/png": "[encoded data removed]",
            "text/plain": [
              "<Figure size 288x288 with 1 Axes>"
            ]
          },
          "metadata": {
            "tags": [],
            "needs_background": "light"
          }
        }
      ]
    },
    {
      "cell_type": "code",
      "metadata": {
        "id": "uvBCY4Rw4EwO"
      },
      "source": [
        "b = model.predict(t[[0]])\n",
        "a = model.predict(tf[[0]])"
      ],
      "execution_count": null,
      "outputs": []
    },
    {
      "cell_type": "code",
      "metadata": {
        "id": "4Ps6fg_14VoK",
        "colab": {
          "base_uri": "https://localhost:8080/",
          "height": 35
        },
        "outputId": "e6b31f28-3693-4a23-e4a5-f5de7dc1a8d4"
      },
      "source": [
        "if a<.50:\n",
        "  print(\"corona\")\n"
      ],
      "execution_count": null,
      "outputs": [
        {
          "output_type": "stream",
          "text": [
            "corona\n"
          ],
          "name": "stdout"
        }
      ]
    },
    {
      "cell_type": "code",
      "metadata": {
        "id": "H0lovIeu6C6k",
        "colab": {
          "base_uri": "https://localhost:8080/",
          "height": 35
        },
        "outputId": "fd63a62d-7847-47fb-fd52-7fc87ddc793b"
      },
      "source": [
        "if b>.50 :\n",
        "  print('good health')"
      ],
      "execution_count": null,
      "outputs": [
        {
          "output_type": "stream",
          "text": [
            "good health\n"
          ],
          "name": "stdout"
        }
      ]
    },
    {
      "cell_type": "markdown",
      "metadata": {
        "id": "Hn_f-Dc_ajhN"
      },
      "source": [
        "Making a list as per prediction on test data"
      ]
    },
    {
      "cell_type": "code",
      "metadata": {
        "id": "qlapXLOO6lSq"
      },
      "source": [
        "# TEST the MOdel\n",
        "predict = model.predict(test_gen)\n",
        "predict = list(predict)"
      ],
      "execution_count": null,
      "outputs": []
    },
    {
      "cell_type": "code",
      "metadata": {
        "id": "OTyGZpsJ7PDM"
      },
      "source": [
        "prediction =[]\n"
      ],
      "execution_count": null,
      "outputs": []
    },
    {
      "cell_type": "code",
      "metadata": {
        "id": "msOtfOE-7P7Y"
      },
      "source": [
        "for i in predict:\n",
        "  if i>.50:\n",
        "    prediction.append(\"Healthy\")\n",
        "  else:\n",
        "    prediction.append('CORONA VIRUS')"
      ],
      "execution_count": null,
      "outputs": []
    },
    {
      "cell_type": "code",
      "metadata": {
        "id": "hxBoSyhG7Uiv",
        "colab": {
          "base_uri": "https://localhost:8080/",
          "height": 728
        },
        "outputId": "fc295d62-356f-4154-ea36-089a6ebfbce8"
      },
      "source": [
        "prediction,predict"
      ],
      "execution_count": null,
      "outputs": [
        {
          "output_type": "execute_result",
          "data": {
            "text/plain": [
              "(['CORONA VIRUS',\n",
              "  'CORONA VIRUS',\n",
              "  'Healthy',\n",
              "  'Healthy',\n",
              "  'CORONA VIRUS',\n",
              "  'Healthy',\n",
              "  'CORONA VIRUS',\n",
              "  'CORONA VIRUS',\n",
              "  'Healthy',\n",
              "  'Healthy',\n",
              "  'Healthy',\n",
              "  'CORONA VIRUS',\n",
              "  'Healthy',\n",
              "  'CORONA VIRUS',\n",
              "  'Healthy',\n",
              "  'Healthy',\n",
              "  'Healthy',\n",
              "  'Healthy',\n",
              "  'CORONA VIRUS',\n",
              "  'CORONA VIRUS'],\n",
              " [array([0.14510259], dtype=float32),\n",
              "  array([0.03893353], dtype=float32),\n",
              "  array([0.99974793], dtype=float32),\n",
              "  array([0.9933201], dtype=float32),\n",
              "  array([0.17653644], dtype=float32),\n",
              "  array([0.5333707], dtype=float32),\n",
              "  array([0.03224381], dtype=float32),\n",
              "  array([0.03890773], dtype=float32),\n",
              "  array([0.9995079], dtype=float32),\n",
              "  array([0.98610616], dtype=float32),\n",
              "  array([0.992281], dtype=float32),\n",
              "  array([0.01342097], dtype=float32),\n",
              "  array([0.9970626], dtype=float32),\n",
              "  array([0.00319352], dtype=float32),\n",
              "  array([0.998075], dtype=float32),\n",
              "  array([0.9610265], dtype=float32),\n",
              "  array([0.9991534], dtype=float32),\n",
              "  array([0.99985945], dtype=float32),\n",
              "  array([0.1482183], dtype=float32),\n",
              "  array([0.0476068], dtype=float32)])"
            ]
          },
          "metadata": {
            "tags": []
          },
          "execution_count": 35
        }
      ]
    },
    {
      "cell_type": "code",
      "metadata": {
        "id": "s-TANLGZg4hj",
        "colab": {
          "base_uri": "https://localhost:8080/",
          "height": 52
        },
        "outputId": "943b37f8-5937-4bf2-ba70-edcd104ad681"
      },
      "source": [
        "model.evaluate(test_gen)"
      ],
      "execution_count": null,
      "outputs": [
        {
          "output_type": "stream",
          "text": [
            "\r1/1 [==============================] - 1s 708ms/step\n"
          ],
          "name": "stdout"
        },
        {
          "output_type": "execute_result",
          "data": {
            "text/plain": [
              "[0.12496744096279144, 1.0]"
            ]
          },
          "metadata": {
            "tags": []
          },
          "execution_count": 41
        }
      ]
    },
    {
      "cell_type": "code",
      "metadata": {
        "id": "I62BWy2x7f9-"
      },
      "source": [
        "import pickle"
      ],
      "execution_count": null,
      "outputs": []
    },
    {
      "cell_type": "code",
      "metadata": {
        "id": "f_8w4dRhB14L"
      },
      "source": [
        "with open('covidmodel.pickle', 'wb') as f:\n",
        "    pickle.dump(model,f)"
      ],
      "execution_count": null,
      "outputs": []
    },
    {
      "cell_type": "code",
      "metadata": {
        "id": "YkDyzOI7e5vF",
        "colab": {
          "base_uri": "https://localhost:8080/",
          "height": 35
        },
        "outputId": "2efadbd2-acc4-4994-91d7-6e8fbe401521"
      },
      "source": [
        "!ls"
      ],
      "execution_count": null,
      "outputs": [
        {
          "output_type": "stream",
          "text": [
            "covidmodel.pickle  drive  sample_data  test  train  val\n"
          ],
          "name": "stdout"
        }
      ]
    },
    {
      "cell_type": "code",
      "metadata": {
        "id": "OA-UgzxSe_Fq",
        "colab": {
          "base_uri": "https://localhost:8080/",
          "height": 35
        },
        "outputId": "88a3a478-e12b-4324-9b0d-6ca35ab1f180"
      },
      "source": [
        "!dir"
      ],
      "execution_count": null,
      "outputs": [
        {
          "output_type": "stream",
          "text": [
            "covidmodel.pickle  drive  sample_data  test  train  val\n"
          ],
          "name": "stdout"
        }
      ]
    },
    {
      "cell_type": "code",
      "metadata": {
        "id": "aUsqX_pnfDQ6",
        "colab": {
          "base_uri": "https://localhost:8080/",
          "height": 35
        },
        "outputId": "e401db27-e63f-4c51-aec5-c6b7a4296fd8"
      },
      "source": [
        "!pwd"
      ],
      "execution_count": null,
      "outputs": [
        {
          "output_type": "stream",
          "text": [
            "/content\n"
          ],
          "name": "stdout"
        }
      ]
    },
    {
      "cell_type": "code",
      "metadata": {
        "id": "DuJQdkmjfF0L",
        "colab": {
          "base_uri": "https://localhost:8080/",
          "height": 1000
        },
        "outputId": "ff08a027-fbb7-4e9c-9522-e74801fb84ea"
      },
      "source": [
        "!unzip '/content/drive/My Drive/Kaggle data/Covid/CT Covid Adrian.zip'"
      ],
      "execution_count": null,
      "outputs": [
        {
          "output_type": "stream",
          "text": [
            "Archive:  /content/drive/My Drive/Kaggle data/Covid/CT Covid Adrian.zip\n",
            "   creating: CT Covid Adrian/CT_COVID/\n",
            "  inflating: CT Covid Adrian/CT_COVID/2019-novel-Coronavirus-severe-adult-respiratory-dist_2020_International-Jour-p3-89%0.png  \n",
            "  inflating: CT Covid Adrian/CT_COVID/2019-novel-Coronavirus-severe-adult-respiratory-dist_2020_International-Jour-p3-89%1.png  \n",
            "  inflating: CT Covid Adrian/CT_COVID/2019-novel-Coronavirus-severe-adult-respiratory-dist_2020_International-Jour-p3-91.png  \n",
            "  inflating: CT Covid Adrian/CT_COVID/2020.01.24.919183-p27-132.png  \n",
            "  inflating: CT Covid Adrian/CT_COVID/2020.01.24.919183-p27-133.png  \n",
            "  inflating: CT Covid Adrian/CT_COVID/2020.01.24.919183-p27-134.png  \n",
            "  inflating: CT Covid Adrian/CT_COVID/2020.01.24.919183-p27-135.png  \n",
            "  inflating: CT Covid Adrian/CT_COVID/2020.02.10.20021584-p6-52%0.png  \n",
            "  inflating: CT Covid Adrian/CT_COVID/2020.02.10.20021584-p6-52%1.png  \n",
            "  inflating: CT Covid Adrian/CT_COVID/2020.02.10.20021584-p6-52%10.png  \n",
            "  inflating: CT Covid Adrian/CT_COVID/2020.02.10.20021584-p6-52%11.png  \n",
            "  inflating: CT Covid Adrian/CT_COVID/2020.02.10.20021584-p6-52%12.png  \n",
            "  inflating: CT Covid Adrian/CT_COVID/2020.02.10.20021584-p6-52%13.png  \n",
            "  inflating: CT Covid Adrian/CT_COVID/2020.02.10.20021584-p6-52%14.png  \n",
            "  inflating: CT Covid Adrian/CT_COVID/2020.02.10.20021584-p6-52%15.png  \n",
            "  inflating: CT Covid Adrian/CT_COVID/2020.02.10.20021584-p6-52%2.png  \n",
            "  inflating: CT Covid Adrian/CT_COVID/2020.02.10.20021584-p6-52%3.png  \n",
            "  inflating: CT Covid Adrian/CT_COVID/2020.02.10.20021584-p6-52%4.png  \n",
            "  inflating: CT Covid Adrian/CT_COVID/2020.02.10.20021584-p6-52%5.png  \n",
            "  inflating: CT Covid Adrian/CT_COVID/2020.02.10.20021584-p6-52%6.png  \n",
            "  inflating: CT Covid Adrian/CT_COVID/2020.02.10.20021584-p6-52%7.png  \n",
            "  inflating: CT Covid Adrian/CT_COVID/2020.02.10.20021584-p6-52%8.png  \n",
            "  inflating: CT Covid Adrian/CT_COVID/2020.02.10.20021584-p6-52%9.png  \n",
            "  inflating: CT Covid Adrian/CT_COVID/2020.02.11.20021493-p16-109%0.png  \n",
            "  inflating: CT Covid Adrian/CT_COVID/2020.02.11.20021493-p16-109%1.png  \n",
            "  inflating: CT Covid Adrian/CT_COVID/2020.02.11.20021493-p16-109%2.png  \n",
            "  inflating: CT Covid Adrian/CT_COVID/2020.02.11.20022053-p12-67%0.png  \n",
            "  inflating: CT Covid Adrian/CT_COVID/2020.02.11.20022053-p12-67%1.png  \n",
            "  inflating: CT Covid Adrian/CT_COVID/2020.02.11.20022053-p12-67%2.png  \n",
            "  inflating: CT Covid Adrian/CT_COVID/2020.02.11.20022053-p12-67%3.png  \n",
            "  inflating: CT Covid Adrian/CT_COVID/2020.02.13.20022673-p13-77%0.png  \n",
            "  inflating: CT Covid Adrian/CT_COVID/2020.02.13.20022673-p13-77%1.png  \n",
            "  inflating: CT Covid Adrian/CT_COVID/2020.02.13.20022673-p13-77%2.png  \n",
            "  inflating: CT Covid Adrian/CT_COVID/2020.02.17.20024018-p17-61%0.png  \n",
            "  inflating: CT Covid Adrian/CT_COVID/2020.02.17.20024018-p17-61%1.png  \n",
            "  inflating: CT Covid Adrian/CT_COVID/2020.02.17.20024018-p17-61%2.png  \n",
            "  inflating: CT Covid Adrian/CT_COVID/2020.02.17.20024018-p17-61%3.png  \n",
            "  inflating: CT Covid Adrian/CT_COVID/2020.02.17.20024018-p17-61%4.png  \n",
            "  inflating: CT Covid Adrian/CT_COVID/2020.02.19.20025023-p20-93%0.png  \n",
            "  inflating: CT Covid Adrian/CT_COVID/2020.02.19.20025023-p20-93%1.png  \n",
            "  inflating: CT Covid Adrian/CT_COVID/2020.02.19.20025023-p20-93%2.png  \n",
            "  inflating: CT Covid Adrian/CT_COVID/2020.02.19.20025023-p20-93%3.png  \n",
            "  inflating: CT Covid Adrian/CT_COVID/2020.02.22.20024927-p18-66%0.png  \n",
            "  inflating: CT Covid Adrian/CT_COVID/2020.02.22.20024927-p18-66%1.png  \n",
            "  inflating: CT Covid Adrian/CT_COVID/2020.02.22.20024927-p18-66%2.png  \n",
            "  inflating: CT Covid Adrian/CT_COVID/2020.02.22.20024927-p19-68%0.png  \n",
            "  inflating: CT Covid Adrian/CT_COVID/2020.02.22.20024927-p19-68%1.png  \n",
            "  inflating: CT Covid Adrian/CT_COVID/2020.02.22.20024927-p19-68%2.png  \n",
            "  inflating: CT Covid Adrian/CT_COVID/2020.02.22.20024927-p19-68%3.png  \n",
            "  inflating: CT Covid Adrian/CT_COVID/2020.02.22.20024927-p19-68%4.png  \n",
            "  inflating: CT Covid Adrian/CT_COVID/2020.02.22.20024927-p19-68%5.png  \n",
            "  inflating: CT Covid Adrian/CT_COVID/2020.02.22.20024927-p20-70%0.png  \n",
            "  inflating: CT Covid Adrian/CT_COVID/2020.02.22.20024927-p20-70%1.png  \n",
            "  inflating: CT Covid Adrian/CT_COVID/2020.02.22.20024927-p20-70%2.png  \n",
            "  inflating: CT Covid Adrian/CT_COVID/2020.02.22.20024927-p20-70%3.png  \n",
            "  inflating: CT Covid Adrian/CT_COVID/2020.02.23.20026856-p17-115%0.png  \n",
            "  inflating: CT Covid Adrian/CT_COVID/2020.02.23.20026856-p17-115%1.png  \n",
            "  inflating: CT Covid Adrian/CT_COVID/2020.02.23.20026856-p17-115%2.png  \n",
            "  inflating: CT Covid Adrian/CT_COVID/2020.02.23.20026856-p17-115%3.png  \n",
            "  inflating: CT Covid Adrian/CT_COVID/2020.02.23.20026856-p17-115%4.png  \n",
            "  inflating: CT Covid Adrian/CT_COVID/2020.02.23.20026856-p17-115%5.png  \n",
            "  inflating: CT Covid Adrian/CT_COVID/2020.02.24.20027052-p8-73%0.png  \n",
            "  inflating: CT Covid Adrian/CT_COVID/2020.02.24.20027052-p8-73%1.png  \n",
            "  inflating: CT Covid Adrian/CT_COVID/2020.02.24.20027052-p8-73%2.png  \n",
            "  inflating: CT Covid Adrian/CT_COVID/2020.02.24.20027052-p8-73%3.png  \n",
            "  inflating: CT Covid Adrian/CT_COVID/2020.02.24.20027201-p19-669.png  \n",
            "  inflating: CT Covid Adrian/CT_COVID/2020.02.24.20027201-p19-670.png  \n",
            "  inflating: CT Covid Adrian/CT_COVID/2020.02.25.20021568-p23-108%0.png  \n",
            "  inflating: CT Covid Adrian/CT_COVID/2020.02.25.20021568-p23-108%1.png  \n",
            "  inflating: CT Covid Adrian/CT_COVID/2020.02.25.20021568-p23-108%10.png  \n",
            "  inflating: CT Covid Adrian/CT_COVID/2020.02.25.20021568-p23-108%11.png  \n",
            "  inflating: CT Covid Adrian/CT_COVID/2020.02.25.20021568-p23-108%12.png  \n",
            "  inflating: CT Covid Adrian/CT_COVID/2020.02.25.20021568-p23-108%13.png  \n",
            "  inflating: CT Covid Adrian/CT_COVID/2020.02.25.20021568-p23-108%14.png  \n",
            "  inflating: CT Covid Adrian/CT_COVID/2020.02.25.20021568-p23-108%15.png  \n",
            "  inflating: CT Covid Adrian/CT_COVID/2020.02.25.20021568-p23-108%2.png  \n",
            "  inflating: CT Covid Adrian/CT_COVID/2020.02.25.20021568-p23-108%3.png  \n",
            "  inflating: CT Covid Adrian/CT_COVID/2020.02.25.20021568-p23-108%4.png  \n",
            "  inflating: CT Covid Adrian/CT_COVID/2020.02.25.20021568-p23-108%5.png  \n",
            "  inflating: CT Covid Adrian/CT_COVID/2020.02.25.20021568-p23-108%6.png  \n",
            "  inflating: CT Covid Adrian/CT_COVID/2020.02.25.20021568-p23-108%7.png  \n",
            "  inflating: CT Covid Adrian/CT_COVID/2020.02.25.20021568-p23-108%8.png  \n",
            "  inflating: CT Covid Adrian/CT_COVID/2020.02.25.20021568-p23-108%9.png  \n",
            "  inflating: CT Covid Adrian/CT_COVID/2020.02.25.20021568-p24-111%0.png  \n",
            "  inflating: CT Covid Adrian/CT_COVID/2020.02.25.20021568-p24-111%1.png  \n",
            "  inflating: CT Covid Adrian/CT_COVID/2020.02.25.20021568-p24-111%2.png  \n",
            "  inflating: CT Covid Adrian/CT_COVID/2020.02.25.20021568-p24-111%3.png  \n",
            "  inflating: CT Covid Adrian/CT_COVID/2020.02.25.20021568-p24-111%4.png  \n",
            "  inflating: CT Covid Adrian/CT_COVID/2020.02.25.20021568-p24-111%5.png  \n",
            "  inflating: CT Covid Adrian/CT_COVID/2020.02.25.20021568-p24-111%6.png  \n",
            "  inflating: CT Covid Adrian/CT_COVID/2020.02.25.20021568-p24-111%7.png  \n",
            "  inflating: CT Covid Adrian/CT_COVID/2020.02.25.20021568-p24-111%8.png  \n",
            "  inflating: CT Covid Adrian/CT_COVID/2020.02.25.20021568-p24-111%9.png  \n",
            "  inflating: CT Covid Adrian/CT_COVID/2020.02.25.20027763-p15-53%0.png  \n",
            "  inflating: CT Covid Adrian/CT_COVID/2020.02.25.20027763-p15-53%1.png  \n",
            "  inflating: CT Covid Adrian/CT_COVID/2020.02.26.20026989-p34-114_1%0.png  \n",
            "  inflating: CT Covid Adrian/CT_COVID/2020.02.26.20026989-p34-114_1%1.png  \n",
            "  inflating: CT Covid Adrian/CT_COVID/2020.02.26.20026989-p34-114_2%0.png  \n",
            "  inflating: CT Covid Adrian/CT_COVID/2020.02.26.20026989-p34-114_2%1.png  \n",
            "  inflating: CT Covid Adrian/CT_COVID/2020.02.26.20027938-p6-80_1%0.png  \n",
            "  inflating: CT Covid Adrian/CT_COVID/2020.02.26.20027938-p6-80_1%1.png  \n",
            "  inflating: CT Covid Adrian/CT_COVID/2020.02.26.20027938-p6-80_2%0.png  \n",
            "  inflating: CT Covid Adrian/CT_COVID/2020.02.26.20027938-p6-80_2%1.png  \n",
            "  inflating: CT Covid Adrian/CT_COVID/2020.02.26.20027938-p6-80_3%0.png  \n",
            "  inflating: CT Covid Adrian/CT_COVID/2020.02.26.20027938-p6-80_3%1.png  \n",
            "  inflating: CT Covid Adrian/CT_COVID/2020.02.27.20027557-p25-137%0.png  \n",
            "  inflating: CT Covid Adrian/CT_COVID/2020.02.27.20027557-p25-137%1.png  \n",
            "  inflating: CT Covid Adrian/CT_COVID/2020.02.27.20027557-p25-137%2.png  \n",
            "  inflating: CT Covid Adrian/CT_COVID/2020.02.27.20027557-p25-137%3.png  \n",
            "  inflating: CT Covid Adrian/CT_COVID/2020.02.27.20027557-p25-137%4.png  \n",
            "  inflating: CT Covid Adrian/CT_COVID/2020.02.28.20029025-p23-182.png  \n",
            "  inflating: CT Covid Adrian/CT_COVID/2020.02.28.20029025-p23-183.png  \n",
            "  inflating: CT Covid Adrian/CT_COVID/2020.03.01.20029769-p21-73_1%0.png  \n",
            "  inflating: CT Covid Adrian/CT_COVID/2020.03.01.20029769-p21-73_1%1.png  \n",
            "  inflating: CT Covid Adrian/CT_COVID/2020.03.01.20029769-p21-73_1%2.png  \n",
            "  inflating: CT Covid Adrian/CT_COVID/2020.03.01.20029769-p21-73_2%0.png  \n",
            "  inflating: CT Covid Adrian/CT_COVID/2020.03.01.20029769-p21-73_2%1.png  \n",
            "  inflating: CT Covid Adrian/CT_COVID/2020.03.01.20029769-p21-73_2%2.png  \n",
            "  inflating: CT Covid Adrian/CT_COVID/2020.03.01.20029769-p21-73_3.png  \n",
            "  inflating: CT Covid Adrian/CT_COVID/2020.03.01.20029769-p21-73_4.png  \n",
            "  inflating: CT Covid Adrian/CT_COVID/2020.03.03.20030353-p17-106%0.png  \n",
            "  inflating: CT Covid Adrian/CT_COVID/2020.03.03.20030353-p17-106%1.png  \n",
            "  inflating: CT Covid Adrian/CT_COVID/2020.03.03.20030353-p17-106%2.png  \n",
            "  inflating: CT Covid Adrian/CT_COVID/2020.03.03.20030775-p10-88%0.png  \n",
            "  inflating: CT Covid Adrian/CT_COVID/2020.03.03.20030775-p10-88%1.png  \n",
            "  inflating: CT Covid Adrian/CT_COVID/2020.03.03.20030775-p11-91.png  \n",
            "  inflating: CT Covid Adrian/CT_COVID/2020.03.03.20030775-p12-93%0.png  \n",
            "  inflating: CT Covid Adrian/CT_COVID/2020.03.03.20030775-p12-93%1.png  \n",
            "  inflating: CT Covid Adrian/CT_COVID/2020.03.04.20026005-p12-1946%0.png  \n",
            "  inflating: CT Covid Adrian/CT_COVID/2020.03.04.20026005-p12-1946%1.png  \n",
            "  inflating: CT Covid Adrian/CT_COVID/2020.03.04.20026005-p12-1946%2.png  \n",
            "  inflating: CT Covid Adrian/CT_COVID/2020.03.04.20026005-p12-1946%3.png  \n",
            "  inflating: CT Covid Adrian/CT_COVID/2020.03.04.20026005-p12-1946%4.png  \n",
            "  inflating: CT Covid Adrian/CT_COVID/2020.03.04.20026005-p12-1946%5.png  \n",
            "  inflating: CT Covid Adrian/CT_COVID/2020.03.04.20030395-p27-108%0.png  \n",
            "  inflating: CT Covid Adrian/CT_COVID/2020.03.04.20030395-p27-108%1.png  \n",
            "  inflating: CT Covid Adrian/CT_COVID/2020.03.04.20030395-p27-108%2.png  \n",
            "  inflating: CT Covid Adrian/CT_COVID/2020.03.04.20030395-p27-108%3.png  \n",
            "  inflating: CT Covid Adrian/CT_COVID/2020.03.04.20030395-p27-108%4.png  \n",
            "  inflating: CT Covid Adrian/CT_COVID/2020.03.04.20030395-p27-108%5.png  \n",
            "  inflating: CT Covid Adrian/CT_COVID/2020.03.04.20030395-p27-108%6.png  \n",
            "  inflating: CT Covid Adrian/CT_COVID/2020.03.04.20030395-p27-108%7.png  \n",
            "  inflating: CT Covid Adrian/CT_COVID/2020.03.04.20030395-p27-108%8.png  \n",
            "  inflating: CT Covid Adrian/CT_COVID/2020.03.04.20031039-p23-97_1%0.png  \n",
            "  inflating: CT Covid Adrian/CT_COVID/2020.03.04.20031039-p23-97_1%1.png  \n",
            "  inflating: CT Covid Adrian/CT_COVID/2020.03.04.20031039-p23-97_1%2.png  \n",
            "  inflating: CT Covid Adrian/CT_COVID/2020.03.04.20031039-p23-97_2%0.png  \n",
            "  inflating: CT Covid Adrian/CT_COVID/2020.03.04.20031039-p23-97_2%1.png  \n",
            "  inflating: CT Covid Adrian/CT_COVID/2020.03.04.20031039-p23-97_2%2.png  \n",
            "  inflating: CT Covid Adrian/CT_COVID/2020.03.04.20031047-p12-81%0.png  \n",
            "  inflating: CT Covid Adrian/CT_COVID/2020.03.04.20031047-p12-81%1.png  \n",
            "  inflating: CT Covid Adrian/CT_COVID/2020.03.04.20031047-p12-81%2.png  \n",
            "  inflating: CT Covid Adrian/CT_COVID/2020.03.04.20031047-p12-81%3.png  \n",
            "  inflating: CT Covid Adrian/CT_COVID/2020.03.04.20031047-p13-84%0.png  \n",
            "  inflating: CT Covid Adrian/CT_COVID/2020.03.04.20031047-p13-84%1.png  \n",
            "  inflating: CT Covid Adrian/CT_COVID/2020.03.04.20031047-p13-84%2.png  \n",
            "  inflating: CT Covid Adrian/CT_COVID/2020.03.04.20031047-p13-84%3.png  \n",
            "  inflating: CT Covid Adrian/CT_COVID/2020.03.04.20031047-p13-84%4.png  \n",
            "  inflating: CT Covid Adrian/CT_COVID/2020.03.04.20031047-p13-84%5.png  \n",
            "  inflating: CT Covid Adrian/CT_COVID/2020.03.04.20031047-p14-87%0.png  \n",
            "  inflating: CT Covid Adrian/CT_COVID/2020.03.04.20031047-p14-87%1.png  \n",
            "  inflating: CT Covid Adrian/CT_COVID/2020.03.07.20031393-p7-50%0.png  \n",
            "  inflating: CT Covid Adrian/CT_COVID/2020.03.07.20031393-p7-50%1.png  \n",
            "  inflating: CT Covid Adrian/CT_COVID/2020.03.07.20031393-p7-50%2.png  \n",
            "  inflating: CT Covid Adrian/CT_COVID/2020.03.07.20031393-p7-50%3.png  \n",
            "  inflating: CT Covid Adrian/CT_COVID/2020.03.08.20031658-p15-103.png  \n",
            "  inflating: CT Covid Adrian/CT_COVID/2020.03.08.20031658-p15-104.png  \n",
            "  inflating: CT Covid Adrian/CT_COVID/2020.03.08.20031658-p15-105.png  \n",
            "  inflating: CT Covid Adrian/CT_COVID/2020.03.08.20031658-p15-106.png  \n",
            "  inflating: CT Covid Adrian/CT_COVID/2020.03.09.20033118-p20-93%0.png  \n",
            "  inflating: CT Covid Adrian/CT_COVID/2020.03.09.20033118-p20-93%1.png  \n",
            "  inflating: CT Covid Adrian/CT_COVID/2020.03.09.20033118-p20-93%2.png  \n",
            "  inflating: CT Covid Adrian/CT_COVID/2020.03.09.20033118-p20-93%3.png  \n",
            "  inflating: CT Covid Adrian/CT_COVID/2020.03.10.20032136-p34-118_1%0.png  \n",
            "  inflating: CT Covid Adrian/CT_COVID/2020.03.10.20032136-p34-118_1%1.png  \n",
            "  inflating: CT Covid Adrian/CT_COVID/2020.03.10.20032136-p34-118_2%0.png  \n",
            "  inflating: CT Covid Adrian/CT_COVID/2020.03.10.20032136-p34-118_2%1.png  \n",
            "  inflating: CT Covid Adrian/CT_COVID/2020.03.11.20033159-p12-45%0.png  \n",
            "  inflating: CT Covid Adrian/CT_COVID/2020.03.11.20033159-p12-45%1.png  \n",
            "  inflating: CT Covid Adrian/CT_COVID/2020.03.11.20033159-p12-45%2.png  \n",
            "  inflating: CT Covid Adrian/CT_COVID/2020.03.11.20033159-p12-45%3.png  \n",
            "  inflating: CT Covid Adrian/CT_COVID/2020.03.11.20033159-p12-45%4.png  \n",
            "  inflating: CT Covid Adrian/CT_COVID/2020.03.11.20033159-p12-45%5.png  \n",
            "  inflating: CT Covid Adrian/CT_COVID/2020.03.12.20027185-p8-216.png  \n",
            "  inflating: CT Covid Adrian/CT_COVID/2020.03.12.20027185-p8-217.png  \n",
            "  inflating: CT Covid Adrian/CT_COVID/2020.03.12.20027185-p8-218.png  \n",
            "  inflating: CT Covid Adrian/CT_COVID/2020.03.12.20027185-p8-221.png  \n",
            "  inflating: CT Covid Adrian/CT_COVID/2020.03.12.20034686-p17-91-1.png  \n",
            "  inflating: CT Covid Adrian/CT_COVID/2020.03.12.20034686-p17-91-2.png  \n",
            "  inflating: CT Covid Adrian/CT_COVID/2020.03.12.20034686-p17-91-3.png  \n",
            "  inflating: CT Covid Adrian/CT_COVID/2020.03.12.20034686-p17-91-4.png  \n",
            "  inflating: CT Covid Adrian/CT_COVID/2020.03.12.20034686-p17-91-5.png  \n",
            "  inflating: CT Covid Adrian/CT_COVID/2020.03.12.20034686-p17-91-6.png  \n",
            "  inflating: CT Covid Adrian/CT_COVID/2020.03.13.20035212-p23-152.png  \n",
            "  inflating: CT Covid Adrian/CT_COVID/2020.03.13.20035212-p23-153.png  \n",
            "  inflating: CT Covid Adrian/CT_COVID/2020.03.13.20035212-p23-154.png  \n",
            "  inflating: CT Covid Adrian/CT_COVID/2020.03.13.20035212-p23-155.png  \n",
            "  inflating: CT Covid Adrian/CT_COVID/2020.03.13.20035212-p23-156.png  \n",
            "  inflating: CT Covid Adrian/CT_COVID/2020.03.13.20035212-p23-157.png  \n",
            "  inflating: CT Covid Adrian/CT_COVID/2020.03.13.20035212-p23-158.png  \n",
            "  inflating: CT Covid Adrian/CT_COVID/2020.03.13.20035212-p23-159.png  \n",
            "  inflating: CT Covid Adrian/CT_COVID/2020.03.13.20035212-p23-160.png  \n",
            "  inflating: CT Covid Adrian/CT_COVID/2020.03.13.20035212-p23-161.png  \n",
            "  inflating: CT Covid Adrian/CT_COVID/2020.03.13.20035212-p23-162.png  \n",
            "  inflating: CT Covid Adrian/CT_COVID/2020.03.13.20035212-p23-163.png  \n",
            "  inflating: CT Covid Adrian/CT_COVID/2020.03.16.20035105-p6-64-1.png  \n",
            "  inflating: CT Covid Adrian/CT_COVID/2020.03.16.20035105-p6-64-2.png  \n",
            "  inflating: CT Covid Adrian/CT_COVID/2020.03.16.20035105-p6-64-3.png  \n",
            "  inflating: CT Covid Adrian/CT_COVID/2020.03.16.20035105-p6-64-4.png  \n",
            "  inflating: CT Covid Adrian/CT_COVID/2020.03.16.20036145-p19-128-1.png  \n",
            "  inflating: CT Covid Adrian/CT_COVID/2020.03.16.20036145-p19-128-2.png  \n",
            "  inflating: CT Covid Adrian/CT_COVID/2020.03.16.20036145-p19-128-3.png  \n",
            "  inflating: CT Covid Adrian/CT_COVID/2020.03.16.20036145-p19-128-4.png  \n",
            "  inflating: CT Covid Adrian/CT_COVID/2020.03.18.20038125-p15-54-2.png  \n",
            "  inflating: CT Covid Adrian/CT_COVID/2020.03.18.20038125-p15-54-4.png  \n",
            "  inflating: CT Covid Adrian/CT_COVID/2020.03.18.20038125-p15-54-5.png  \n",
            "  inflating: CT Covid Adrian/CT_COVID/2020.03.18.20038125-p15-54-6.png  \n",
            "  inflating: CT Covid Adrian/CT_COVID/2020.03.18.20038125-p16-56-1.png  \n",
            "  inflating: CT Covid Adrian/CT_COVID/2020.03.18.20038125-p16-56-2.png  \n",
            "  inflating: CT Covid Adrian/CT_COVID/2020.03.18.20038125-p16-56-3.png  \n",
            "  inflating: CT Covid Adrian/CT_COVID/2020.03.18.20038125-p16-56-4.png  \n",
            "  inflating: CT Covid Adrian/CT_COVID/2020.03.18.20038125-p16-56-5.png  \n",
            "  inflating: CT Covid Adrian/CT_COVID/2020.03.18.20038125-p16-56-6.png  \n",
            "  inflating: CT Covid Adrian/CT_COVID/2020.03.19.20038539-p10-57.png  \n",
            "  inflating: CT Covid Adrian/CT_COVID/2020.03.19.20038539-p10-58.png  \n",
            "  inflating: CT Covid Adrian/CT_COVID/2020.03.19.20038539-p10-59.png  \n",
            "  inflating: CT Covid Adrian/CT_COVID/2020.03.19.20038539-p10-60.png  \n",
            "  inflating: CT Covid Adrian/CT_COVID/2020.03.19.20038539-p10-61.png  \n",
            "  inflating: CT Covid Adrian/CT_COVID/2020.03.19.20038539-p10-62.png  \n",
            "  inflating: CT Covid Adrian/CT_COVID/2020.03.20.20037325-p23-121.png  \n",
            "  inflating: CT Covid Adrian/CT_COVID/2020.03.20.20037325-p23-122.png  \n",
            "  inflating: CT Covid Adrian/CT_COVID/2020.03.20.20037325-p23-123.png  \n",
            "  inflating: CT Covid Adrian/CT_COVID/2020.03.20.20037325-p23-124.png  \n",
            "  inflating: CT Covid Adrian/CT_COVID/2020.03.21.20040691-p18-6-6.png  \n",
            "  inflating: CT Covid Adrian/CT_COVID/2020.03.21.20040691-p18-67-1.png  \n",
            "  inflating: CT Covid Adrian/CT_COVID/2020.03.21.20040691-p18-67-2.png  \n",
            "  inflating: CT Covid Adrian/CT_COVID/2020.03.21.20040691-p18-67-3.png  \n",
            "  inflating: CT Covid Adrian/CT_COVID/2020.03.21.20040691-p18-67-4.png  \n",
            "  inflating: CT Covid Adrian/CT_COVID/2020.03.21.20040691-p18-67-5.png  \n",
            "  inflating: CT Covid Adrian/CT_COVID/2020.03.21.20040691-p18-67-7.png  \n",
            "  inflating: CT Covid Adrian/CT_COVID/2020.03.21.20040691-p18-67-8.png  \n",
            "  inflating: CT Covid Adrian/CT_COVID/2020.03.22.20034041-p16-66.png  \n",
            "  inflating: CT Covid Adrian/CT_COVID/2020.03.22.20034041-p17-80-1.png  \n",
            "  inflating: CT Covid Adrian/CT_COVID/2020.03.22.20034041-p17-80-2.png  \n",
            "  inflating: CT Covid Adrian/CT_COVID/2020.03.22.20034041-p18-92-1.png  \n",
            "  inflating: CT Covid Adrian/CT_COVID/2020.03.22.20034041-p18-92-2.png  \n",
            "  inflating: CT Covid Adrian/CT_COVID/2020.03.22.20034041-p18-92-3.png  \n",
            "  inflating: CT Covid Adrian/CT_COVID/2020.03.22.20040782-p24-1533-1.png  \n",
            "  inflating: CT Covid Adrian/CT_COVID/2020.03.22.20040782-p24-1533-2.png  \n",
            "  inflating: CT Covid Adrian/CT_COVID/2020.03.22.20040782-p24-1533-3.png  \n",
            "  inflating: CT Covid Adrian/CT_COVID/2020.03.22.20040782-p24-1533-4.png  \n",
            "  inflating: CT Covid Adrian/CT_COVID/2020.03.22.20040782-p24-1533-5.png  \n",
            "  inflating: CT Covid Adrian/CT_COVID/2020.03.22.20040782-p24-1533-6.png  \n",
            "  inflating: CT Covid Adrian/CT_COVID/2020.03.22.20040782-p24-1533-7.png  \n",
            "  inflating: CT Covid Adrian/CT_COVID/2020.03.22.20040782-p24-1533-8.png  \n",
            "  inflating: CT Covid Adrian/CT_COVID/2020.03.22.20040782-p25-1541.png  \n",
            "  inflating: CT Covid Adrian/CT_COVID/2020.03.22.20040782-p25-1542.png  \n",
            "  inflating: CT Covid Adrian/CT_COVID/2020.03.22.20040782-p25-1543.png  \n",
            "  inflating: CT Covid Adrian/CT_COVID/2020.03.22.20040782-p25-1544.png  \n",
            "  inflating: CT Covid Adrian/CT_COVID/2020.03.22.20040782-p25-1545.png  \n",
            "  inflating: CT Covid Adrian/CT_COVID/2020.03.22.20040782-p25-1546.png  \n",
            "  inflating: CT Covid Adrian/CT_COVID/2020.03.25.20037721-p27-165.png  \n",
            "  inflating: CT Covid Adrian/CT_COVID/2020.03.25.20037721-p27-172.png  \n",
            "  inflating: CT Covid Adrian/CT_COVID/2020.03.25.20037721-p27-173.png  \n",
            "  inflating: CT Covid Adrian/CT_COVID/2020.03.25.20037721-p27-174.png  \n",
            "  inflating: CT Covid Adrian/CT_COVID/2020.03.25.20037721-p27-181.png  \n",
            "  inflating: CT Covid Adrian/CT_COVID/2020.03.25.20037721-p27-182.png  \n",
            "  inflating: CT Covid Adrian/CT_COVID/2020.03.25.20043166-p17-78.png  \n",
            "  inflating: CT Covid Adrian/CT_COVID/2020.03.25.20043166-p17-79.png  \n",
            "  inflating: CT Covid Adrian/CT_COVID/2020.03.25.20043166-p17-80.png  \n",
            "  inflating: CT Covid Adrian/CT_COVID/2020.03.25.20043166-p17-81.png  \n",
            "  inflating: CT Covid Adrian/CT_COVID/2020.03.26.20041426-p11-119.png  \n",
            "  inflating: CT Covid Adrian/CT_COVID/2020.03.26.20041426-p11-120.png  \n",
            "  inflating: CT Covid Adrian/CT_COVID/2020.03.26.20041426-p11-121.png  \n",
            "  inflating: CT Covid Adrian/CT_COVID/2020.03.26.20041426-p11-122.png  \n",
            "  inflating: CT Covid Adrian/CT_COVID/2020.03.26.20041426-p11-123.png  \n",
            "  inflating: CT Covid Adrian/CT_COVID/2020.03.26.20041426-p11-124.png  \n",
            "  inflating: CT Covid Adrian/CT_COVID/2020.03.26.20041426-p11-125.png  \n",
            "  inflating: CT Covid Adrian/CT_COVID/2020.03.26.20041426-p11-126.png  \n",
            "  inflating: CT Covid Adrian/CT_COVID/2020.03.26.20041426-p11-127.png  \n",
            "  inflating: CT Covid Adrian/CT_COVID/2020.03.26.20041426-p11-128.png  \n",
            "  inflating: CT Covid Adrian/CT_COVID/2020.03.26.20041426-p11-130.png  \n",
            "  inflating: CT Covid Adrian/CT_COVID/2020.03.26.20041426-p11-131.png  \n",
            "  inflating: CT Covid Adrian/CT_COVID/2020.03.26.20041426-p11-132.png  \n",
            "  inflating: CT Covid Adrian/CT_COVID/2020.03.26.20041426-p11-133.png  \n",
            "  inflating: CT Covid Adrian/CT_COVID/2020.03.30.20047985-p9-56%0.png  \n",
            "  inflating: CT Covid Adrian/CT_COVID/2020.03.30.20047985-p9-56%1.png  \n",
            "  inflating: CT Covid Adrian/CT_COVID/2020.03.30.20047985-p9-56%2.png  \n",
            "  inflating: CT Covid Adrian/CT_COVID/2020.03.30.20047985-p9-56%3.png  \n",
            "  inflating: CT Covid Adrian/CT_COVID/bmj.m606.full-p4-22%0.png  \n",
            "  inflating: CT Covid Adrian/CT_COVID/bmj.m606.full-p4-22%1.png  \n",
            "  inflating: CT Covid Adrian/CT_COVID/bmj.m606.full-p4-22%2.png  \n",
            "  inflating: CT Covid Adrian/CT_COVID/bmj.m606.full-p4-22%3.png  \n",
            "  inflating: CT Covid Adrian/CT_COVID/bmj.m606.full-p4-22%4.png  \n",
            "  inflating: CT Covid Adrian/CT_COVID/bmj.m606.full-p4-22%5.png  \n",
            "  inflating: CT Covid Adrian/CT_COVID/bmj.m606.full-p4-22%6.png  \n",
            "  inflating: CT Covid Adrian/CT_COVID/bmj.m606.full-p4-22%7.png  \n",
            "  inflating: CT Covid Adrian/CT_COVID/Comparison-of-different-samples-for-2019-novel-cor_2020_International-Journa-p2-21%0.png  \n",
            "  inflating: CT Covid Adrian/CT_COVID/Comparison-of-different-samples-for-2019-novel-cor_2020_International-Journa-p2-21%1.png  \n",
            "  inflating: CT Covid Adrian/CT_COVID/Comparison-of-different-samples-for-2019-novel-cor_2020_International-Journa-p2-21%10.png  \n",
            "  inflating: CT Covid Adrian/CT_COVID/Comparison-of-different-samples-for-2019-novel-cor_2020_International-Journa-p2-21%11.png  \n",
            "  inflating: CT Covid Adrian/CT_COVID/Comparison-of-different-samples-for-2019-novel-cor_2020_International-Journa-p2-21%2.png  \n",
            "  inflating: CT Covid Adrian/CT_COVID/Comparison-of-different-samples-for-2019-novel-cor_2020_International-Journa-p2-21%3.png  \n",
            "  inflating: CT Covid Adrian/CT_COVID/Comparison-of-different-samples-for-2019-novel-cor_2020_International-Journa-p2-21%4.png  \n",
            "  inflating: CT Covid Adrian/CT_COVID/Comparison-of-different-samples-for-2019-novel-cor_2020_International-Journa-p2-21%5.png  \n",
            "  inflating: CT Covid Adrian/CT_COVID/Comparison-of-different-samples-for-2019-novel-cor_2020_International-Journa-p2-21%6.png  \n",
            "  inflating: CT Covid Adrian/CT_COVID/Comparison-of-different-samples-for-2019-novel-cor_2020_International-Journa-p2-21%7.png  \n",
            "  inflating: CT Covid Adrian/CT_COVID/Comparison-of-different-samples-for-2019-novel-cor_2020_International-Journa-p2-21%8.png  \n",
            "  inflating: CT Covid Adrian/CT_COVID/Comparison-of-different-samples-for-2019-novel-cor_2020_International-Journa-p2-21%9.png  \n",
            "  inflating: CT Covid Adrian/CT_COVID/ehaa254-p0-63%2.png  \n",
            "  inflating: CT Covid Adrian/CT_COVID/ehaa254-p0-63%3.png  \n",
            "  inflating: CT Covid Adrian/CT_COVID/impact_of_covid19_infection_on_pregnancy_outcomes_and_the_risk_of_maternaltoneonatal_intrapartum_transmission_of_covid19_during_natural_birth-p8-41%1.png  \n",
            "  inflating: CT Covid Adrian/CT_COVID/impact_of_covid19_infection_on_pregnancy_outcomes_and_the_risk_of_maternaltoneonatal_intrapartum_transmission_of_covid19_during_natural_birth-p8-41%3.png  \n",
            "  inflating: CT Covid Adrian/CT_COVID/impact_of_covid19_infection_on_pregnancy_outcomes_and_the_risk_of_maternaltoneonatal_intrapartum_transmission_of_covid19_during_natural_birth-p8-41%5.png  \n",
            "  inflating: CT Covid Adrian/CT_COVID/kjr-21-e24-p2-8.png  \n",
            "  inflating: CT Covid Adrian/CT_COVID/kjr-21-e24-p3-16.png  \n",
            "  inflating: CT Covid Adrian/CT_COVID/kjr-21-e24-p5-29.png  \n",
            "  inflating: CT Covid Adrian/CT_COVID/kjr-21-e24-p5-31.png  \n",
            "  inflating: CT Covid Adrian/CT_COVID/kjr-21-e25-p1-10.png  \n",
            "  inflating: CT Covid Adrian/CT_COVID/kjr-21-e25-p1-12.png  \n",
            "  inflating: CT Covid Adrian/CT_COVID/kjr-21-e25-p1-14.png  \n",
            "  inflating: CT Covid Adrian/CT_COVID/kjr-21-e25-p1-6.png  \n",
            "  inflating: CT Covid Adrian/CT_COVID/kjr-21-e25-p1-8.png  \n",
            "  inflating: CT Covid Adrian/CT_COVID/med-9780198814924-chapter-17-p10-515.png  \n",
            "  inflating: CT Covid Adrian/CT_COVID/Ni2020_Article_CombinationOfWesternMedicineAn-p3-10%0.png  \n",
            "  inflating: CT Covid Adrian/CT_COVID/Ni2020_Article_CombinationOfWesternMedicineAn-p3-10%1.png  \n",
            "  inflating: CT Covid Adrian/CT_COVID/Ni2020_Article_CombinationOfWesternMedicineAn-p4-13%0.png  \n",
            "  inflating: CT Covid Adrian/CT_COVID/Ni2020_Article_CombinationOfWesternMedicineAn-p4-13%1.png  \n",
            "  inflating: CT Covid Adrian/CT_COVID/PIIS0140673620301549_0%0.png  \n",
            "  inflating: CT Covid Adrian/CT_COVID/PIIS0140673620301549_0%1.png  \n",
            "  inflating: CT Covid Adrian/CT_COVID/PIIS0140673620301549_1.png  \n",
            "  inflating: CT Covid Adrian/CT_COVID/PIIS0140673620301549_2.png  \n",
            "  inflating: CT Covid Adrian/CT_COVID/PIIS0140673620302117_1.png  \n",
            "  inflating: CT Covid Adrian/CT_COVID/PIIS0140673620302117_2.png  \n",
            "  inflating: CT Covid Adrian/CT_COVID/PIIS0140673620303603%0.png  \n",
            "  inflating: CT Covid Adrian/CT_COVID/PIIS0140673620303603%1.png  \n",
            "  inflating: CT Covid Adrian/CT_COVID/PIIS0140673620303603%2.png  \n",
            "  inflating: CT Covid Adrian/CT_COVID/PIIS0140673620303603%3.png  \n",
            "  inflating: CT Covid Adrian/CT_COVID/PIIS0140673620303603%4.png  \n",
            "  inflating: CT Covid Adrian/CT_COVID/PIIS0140673620303603%5.png  \n",
            "  inflating: CT Covid Adrian/CT_COVID/PIIS0140673620303603%6.png  \n",
            "  inflating: CT Covid Adrian/CT_COVID/PIIS0140673620303603%7.png  \n",
            "  inflating: CT Covid Adrian/CT_COVID/PIIS0140673620303603%8.png  \n",
            "  inflating: CT Covid Adrian/CT_COVID/Recurrence-of-positive-SARS-CoV-2-RNA-in-C_2020_International-Journal-of-Inf-p1-21%0.png  \n",
            "  inflating: CT Covid Adrian/CT_COVID/Recurrence-of-positive-SARS-CoV-2-RNA-in-C_2020_International-Journal-of-Inf-p1-21%1.png  \n",
            "  inflating: CT Covid Adrian/CT_COVID/Talaromyces-marneffei-infection-relapse-presenting-as-ost_2020_International-p1-12%0.png  \n",
            "  inflating: CT Covid Adrian/CT_COVID/Talaromyces-marneffei-infection-relapse-presenting-as-ost_2020_International-p1-12%1.png  \n",
            "  inflating: CT Covid Adrian/CT_COVID/Talaromyces-marneffei-infection-relapse-presenting-as-ost_2020_International-p1-12%2.png  \n",
            "  inflating: CT Covid Adrian/CT_COVID/Talaromyces-marneffei-infection-relapse-presenting-as-ost_2020_International-p1-12%3.png  \n",
            "   creating: CT Covid Adrian/CT_NonCOVID/\n",
            "  inflating: CT Covid Adrian/CT_NonCOVID/0.jpg  \n",
            "  inflating: CT Covid Adrian/CT_NonCOVID/1%0.jpg  \n",
            "  inflating: CT Covid Adrian/CT_NonCOVID/1%1.jpg  \n",
            "  inflating: CT Covid Adrian/CT_NonCOVID/1%2.jpg  \n",
            "  inflating: CT Covid Adrian/CT_NonCOVID/10%0.jpg  \n",
            "  inflating: CT Covid Adrian/CT_NonCOVID/10%1.jpg  \n",
            "  inflating: CT Covid Adrian/CT_NonCOVID/10%2.jpg  \n",
            "  inflating: CT Covid Adrian/CT_NonCOVID/102.png  \n",
            "  inflating: CT Covid Adrian/CT_NonCOVID/1029.png  \n",
            "  inflating: CT Covid Adrian/CT_NonCOVID/103.png  \n",
            "  inflating: CT Covid Adrian/CT_NonCOVID/1030.png  \n",
            "  inflating: CT Covid Adrian/CT_NonCOVID/104.png  \n",
            "  inflating: CT Covid Adrian/CT_NonCOVID/1046.png  \n",
            "  inflating: CT Covid Adrian/CT_NonCOVID/1047.png  \n",
            "  inflating: CT Covid Adrian/CT_NonCOVID/1048.png  \n",
            "  inflating: CT Covid Adrian/CT_NonCOVID/1049.png  \n",
            "  inflating: CT Covid Adrian/CT_NonCOVID/1050.png  \n",
            "  inflating: CT Covid Adrian/CT_NonCOVID/1058.png  \n",
            "  inflating: CT Covid Adrian/CT_NonCOVID/1059.png  \n",
            "  inflating: CT Covid Adrian/CT_NonCOVID/1060.png  \n",
            "  inflating: CT Covid Adrian/CT_NonCOVID/1061.png  \n",
            "  inflating: CT Covid Adrian/CT_NonCOVID/1062.png  \n",
            "  inflating: CT Covid Adrian/CT_NonCOVID/1065.png  \n",
            "  inflating: CT Covid Adrian/CT_NonCOVID/1070.png  \n",
            "  inflating: CT Covid Adrian/CT_NonCOVID/1071.png  \n",
            "  inflating: CT Covid Adrian/CT_NonCOVID/1072.png  \n",
            "  inflating: CT Covid Adrian/CT_NonCOVID/1078.png  \n",
            "  inflating: CT Covid Adrian/CT_NonCOVID/1079.png  \n",
            "  inflating: CT Covid Adrian/CT_NonCOVID/1093.png  \n",
            "  inflating: CT Covid Adrian/CT_NonCOVID/1094.png  \n",
            "  inflating: CT Covid Adrian/CT_NonCOVID/1098.png  \n",
            "  inflating: CT Covid Adrian/CT_NonCOVID/1099.png  \n",
            "  inflating: CT Covid Adrian/CT_NonCOVID/11%0.jpg  \n",
            "  inflating: CT Covid Adrian/CT_NonCOVID/11%1.jpg  \n",
            "  inflating: CT Covid Adrian/CT_NonCOVID/11%2.jpg  \n",
            "  inflating: CT Covid Adrian/CT_NonCOVID/1100.png  \n",
            "  inflating: CT Covid Adrian/CT_NonCOVID/1101.png  \n",
            "  inflating: CT Covid Adrian/CT_NonCOVID/1115.png  \n",
            "  inflating: CT Covid Adrian/CT_NonCOVID/112.png  \n",
            "  inflating: CT Covid Adrian/CT_NonCOVID/1123.png  \n",
            "  inflating: CT Covid Adrian/CT_NonCOVID/1124.png  \n",
            "  inflating: CT Covid Adrian/CT_NonCOVID/114.png  \n",
            "  inflating: CT Covid Adrian/CT_NonCOVID/115.png  \n",
            "  inflating: CT Covid Adrian/CT_NonCOVID/116.png  \n",
            "  inflating: CT Covid Adrian/CT_NonCOVID/1164.png  \n",
            "  inflating: CT Covid Adrian/CT_NonCOVID/117.png  \n",
            "  inflating: CT Covid Adrian/CT_NonCOVID/118.png  \n",
            "  inflating: CT Covid Adrian/CT_NonCOVID/12.jpg  \n",
            "  inflating: CT Covid Adrian/CT_NonCOVID/120.png  \n",
            "  inflating: CT Covid Adrian/CT_NonCOVID/1210.png  \n",
            "  inflating: CT Covid Adrian/CT_NonCOVID/1211.png  \n",
            "  inflating: CT Covid Adrian/CT_NonCOVID/1212.png  \n",
            "  inflating: CT Covid Adrian/CT_NonCOVID/1213.png  \n",
            "  inflating: CT Covid Adrian/CT_NonCOVID/1214.png  \n",
            "  inflating: CT Covid Adrian/CT_NonCOVID/1215.png  \n",
            "  inflating: CT Covid Adrian/CT_NonCOVID/1216.png  \n",
            "  inflating: CT Covid Adrian/CT_NonCOVID/1217.png  \n",
            "  inflating: CT Covid Adrian/CT_NonCOVID/1218.png  \n",
            "  inflating: CT Covid Adrian/CT_NonCOVID/1221.png  \n",
            "  inflating: CT Covid Adrian/CT_NonCOVID/1238.png  \n",
            "  inflating: CT Covid Adrian/CT_NonCOVID/1239.png  \n",
            "  inflating: CT Covid Adrian/CT_NonCOVID/1240.png  \n",
            "  inflating: CT Covid Adrian/CT_NonCOVID/1261.png  \n",
            "  inflating: CT Covid Adrian/CT_NonCOVID/1262.png  \n",
            "  inflating: CT Covid Adrian/CT_NonCOVID/1263.png  \n",
            "  inflating: CT Covid Adrian/CT_NonCOVID/1264.png  \n",
            "  inflating: CT Covid Adrian/CT_NonCOVID/1277.png  \n",
            "  inflating: CT Covid Adrian/CT_NonCOVID/1297.png  \n",
            "  inflating: CT Covid Adrian/CT_NonCOVID/1298.png  \n",
            "  inflating: CT Covid Adrian/CT_NonCOVID/13.jpg  \n",
            "  inflating: CT Covid Adrian/CT_NonCOVID/1305.png  \n",
            "  inflating: CT Covid Adrian/CT_NonCOVID/1306.png  \n",
            "  inflating: CT Covid Adrian/CT_NonCOVID/1307.png  \n",
            "  inflating: CT Covid Adrian/CT_NonCOVID/1308.png  \n",
            "  inflating: CT Covid Adrian/CT_NonCOVID/1309.png  \n",
            "  inflating: CT Covid Adrian/CT_NonCOVID/1310.png  \n",
            "  inflating: CT Covid Adrian/CT_NonCOVID/1312.png  \n",
            "  inflating: CT Covid Adrian/CT_NonCOVID/1313.png  \n",
            "  inflating: CT Covid Adrian/CT_NonCOVID/1328.png  \n",
            "  inflating: CT Covid Adrian/CT_NonCOVID/1330.png  \n",
            "  inflating: CT Covid Adrian/CT_NonCOVID/1331.png  \n",
            "  inflating: CT Covid Adrian/CT_NonCOVID/1332.png  \n",
            "  inflating: CT Covid Adrian/CT_NonCOVID/1333.png  \n",
            "  inflating: CT Covid Adrian/CT_NonCOVID/1335.png  \n",
            "  inflating: CT Covid Adrian/CT_NonCOVID/1336.png  \n",
            "  inflating: CT Covid Adrian/CT_NonCOVID/14%0.jpg  \n",
            "  inflating: CT Covid Adrian/CT_NonCOVID/14%1.jpg  \n",
            "  inflating: CT Covid Adrian/CT_NonCOVID/14%2.jpg  \n",
            "  inflating: CT Covid Adrian/CT_NonCOVID/14%3.jpg  \n",
            "  inflating: CT Covid Adrian/CT_NonCOVID/14.png  \n",
            "  inflating: CT Covid Adrian/CT_NonCOVID/1428.png  \n",
            "  inflating: CT Covid Adrian/CT_NonCOVID/1463.png  \n",
            "  inflating: CT Covid Adrian/CT_NonCOVID/1497.png  \n",
            "  inflating: CT Covid Adrian/CT_NonCOVID/1498.png  \n",
            "  inflating: CT Covid Adrian/CT_NonCOVID/1499.png  \n",
            "  inflating: CT Covid Adrian/CT_NonCOVID/15%0.jpg  \n",
            "  inflating: CT Covid Adrian/CT_NonCOVID/15%1.jpg  \n",
            "  inflating: CT Covid Adrian/CT_NonCOVID/15%2.jpg  \n",
            "  inflating: CT Covid Adrian/CT_NonCOVID/15%3.jpg  \n",
            "  inflating: CT Covid Adrian/CT_NonCOVID/15.png  \n",
            "  inflating: CT Covid Adrian/CT_NonCOVID/1500.png  \n",
            "  inflating: CT Covid Adrian/CT_NonCOVID/1501.png  \n",
            "  inflating: CT Covid Adrian/CT_NonCOVID/1561.png  \n",
            "  inflating: CT Covid Adrian/CT_NonCOVID/1562.png  \n",
            "  inflating: CT Covid Adrian/CT_NonCOVID/1575.png  \n",
            "  inflating: CT Covid Adrian/CT_NonCOVID/1576.png  \n",
            "  inflating: CT Covid Adrian/CT_NonCOVID/1577.png  \n",
            "  inflating: CT Covid Adrian/CT_NonCOVID/158.png  \n",
            "  inflating: CT Covid Adrian/CT_NonCOVID/16.jpg  \n",
            "  inflating: CT Covid Adrian/CT_NonCOVID/1638.png  \n",
            "  inflating: CT Covid Adrian/CT_NonCOVID/166.png  \n",
            "  inflating: CT Covid Adrian/CT_NonCOVID/167.png  \n",
            "  inflating: CT Covid Adrian/CT_NonCOVID/17%0.jpg  \n",
            "  inflating: CT Covid Adrian/CT_NonCOVID/17%1.jpg  \n",
            "  inflating: CT Covid Adrian/CT_NonCOVID/1702.png  \n",
            "  inflating: CT Covid Adrian/CT_NonCOVID/171.png  \n",
            "  inflating: CT Covid Adrian/CT_NonCOVID/174.png  \n",
            "  inflating: CT Covid Adrian/CT_NonCOVID/176.png  \n",
            "  inflating: CT Covid Adrian/CT_NonCOVID/177.png  \n",
            "  inflating: CT Covid Adrian/CT_NonCOVID/18%0.jpg  \n",
            "  inflating: CT Covid Adrian/CT_NonCOVID/18%1.jpg  \n",
            "  inflating: CT Covid Adrian/CT_NonCOVID/18%2.jpg  \n",
            "  inflating: CT Covid Adrian/CT_NonCOVID/18%3.jpg  \n",
            "  inflating: CT Covid Adrian/CT_NonCOVID/1814.png  \n",
            "  inflating: CT Covid Adrian/CT_NonCOVID/1845.png  \n",
            "  inflating: CT Covid Adrian/CT_NonCOVID/1846.png  \n",
            "  inflating: CT Covid Adrian/CT_NonCOVID/1857.png  \n",
            "  inflating: CT Covid Adrian/CT_NonCOVID/1858.png  \n",
            "  inflating: CT Covid Adrian/CT_NonCOVID/1859.png  \n",
            "  inflating: CT Covid Adrian/CT_NonCOVID/1868.png  \n",
            "  inflating: CT Covid Adrian/CT_NonCOVID/1876.png  \n",
            "  inflating: CT Covid Adrian/CT_NonCOVID/1877.png  \n",
            "  inflating: CT Covid Adrian/CT_NonCOVID/1888.png  \n",
            "  inflating: CT Covid Adrian/CT_NonCOVID/1889.png  \n",
            "  inflating: CT Covid Adrian/CT_NonCOVID/19%0.jpg  \n",
            "  inflating: CT Covid Adrian/CT_NonCOVID/19%1.jpg  \n",
            "  inflating: CT Covid Adrian/CT_NonCOVID/1919.png  \n",
            "  inflating: CT Covid Adrian/CT_NonCOVID/1920.png  \n",
            "  inflating: CT Covid Adrian/CT_NonCOVID/1921.png  \n",
            "  inflating: CT Covid Adrian/CT_NonCOVID/1922.png  \n",
            "  inflating: CT Covid Adrian/CT_NonCOVID/1923.png  \n",
            "  inflating: CT Covid Adrian/CT_NonCOVID/1924.png  \n",
            "  inflating: CT Covid Adrian/CT_NonCOVID/1952.png  \n",
            "  inflating: CT Covid Adrian/CT_NonCOVID/2%0.jpg  \n",
            "  inflating: CT Covid Adrian/CT_NonCOVID/2%1.jpg  \n",
            "  inflating: CT Covid Adrian/CT_NonCOVID/2%2.jpg  \n",
            "  inflating: CT Covid Adrian/CT_NonCOVID/2%3.jpg  \n",
            "  inflating: CT Covid Adrian/CT_NonCOVID/20.jpg  \n",
            "  inflating: CT Covid Adrian/CT_NonCOVID/2007.png  \n",
            "  inflating: CT Covid Adrian/CT_NonCOVID/2039.png  \n",
            "  inflating: CT Covid Adrian/CT_NonCOVID/2040.png  \n",
            "  inflating: CT Covid Adrian/CT_NonCOVID/2041.png  \n",
            "  inflating: CT Covid Adrian/CT_NonCOVID/21%0.jpg  \n",
            "  inflating: CT Covid Adrian/CT_NonCOVID/21%1.jpg  \n",
            "  inflating: CT Covid Adrian/CT_NonCOVID/2108.png  \n",
            "  inflating: CT Covid Adrian/CT_NonCOVID/2138.png  \n",
            "  inflating: CT Covid Adrian/CT_NonCOVID/2139.png  \n",
            "  inflating: CT Covid Adrian/CT_NonCOVID/2140.png  \n",
            "  inflating: CT Covid Adrian/CT_NonCOVID/2141.png  \n",
            "  inflating: CT Covid Adrian/CT_NonCOVID/2142.png  \n",
            "  inflating: CT Covid Adrian/CT_NonCOVID/2143.png  \n",
            "  inflating: CT Covid Adrian/CT_NonCOVID/2144.png  \n",
            "  inflating: CT Covid Adrian/CT_NonCOVID/2145.png  \n",
            "  inflating: CT Covid Adrian/CT_NonCOVID/22%0.jpg  \n",
            "  inflating: CT Covid Adrian/CT_NonCOVID/22%1.jpg  \n",
            "  inflating: CT Covid Adrian/CT_NonCOVID/2237.png  \n",
            "  inflating: CT Covid Adrian/CT_NonCOVID/226.png  \n",
            "  inflating: CT Covid Adrian/CT_NonCOVID/227.png  \n",
            "  inflating: CT Covid Adrian/CT_NonCOVID/23.png  \n",
            "  inflating: CT Covid Adrian/CT_NonCOVID/2341.png  \n",
            "  inflating: CT Covid Adrian/CT_NonCOVID/24.png  \n",
            "  inflating: CT Covid Adrian/CT_NonCOVID/25%0.jpg  \n",
            "  inflating: CT Covid Adrian/CT_NonCOVID/25%1.jpg  \n",
            "  inflating: CT Covid Adrian/CT_NonCOVID/25%2.jpg  \n",
            "  inflating: CT Covid Adrian/CT_NonCOVID/25%3.jpg  \n",
            "  inflating: CT Covid Adrian/CT_NonCOVID/25.png  \n",
            "  inflating: CT Covid Adrian/CT_NonCOVID/26%0.jpg  \n",
            "  inflating: CT Covid Adrian/CT_NonCOVID/26%1.jpg  \n",
            "  inflating: CT Covid Adrian/CT_NonCOVID/26%2.jpg  \n",
            "  inflating: CT Covid Adrian/CT_NonCOVID/26%3.jpg  \n",
            "  inflating: CT Covid Adrian/CT_NonCOVID/26.png  \n",
            "  inflating: CT Covid Adrian/CT_NonCOVID/27.jpg  \n",
            "  inflating: CT Covid Adrian/CT_NonCOVID/28.jpg  \n",
            "  inflating: CT Covid Adrian/CT_NonCOVID/29%0.jpg  \n",
            "  inflating: CT Covid Adrian/CT_NonCOVID/29%1.jpg  \n",
            "  inflating: CT Covid Adrian/CT_NonCOVID/29%2.jpg  \n",
            "  inflating: CT Covid Adrian/CT_NonCOVID/29%3.jpg  \n",
            "  inflating: CT Covid Adrian/CT_NonCOVID/294.png  \n",
            "  inflating: CT Covid Adrian/CT_NonCOVID/3.jpg  \n",
            "  inflating: CT Covid Adrian/CT_NonCOVID/30%0.jpg  \n",
            "  inflating: CT Covid Adrian/CT_NonCOVID/30%1.jpg  \n",
            "  inflating: CT Covid Adrian/CT_NonCOVID/30%2.jpg  \n",
            "  inflating: CT Covid Adrian/CT_NonCOVID/30%3.jpg  \n",
            "  inflating: CT Covid Adrian/CT_NonCOVID/30%4.jpg  \n",
            "  inflating: CT Covid Adrian/CT_NonCOVID/30%5.jpg  \n",
            "  inflating: CT Covid Adrian/CT_NonCOVID/31.jpg  \n",
            "  inflating: CT Covid Adrian/CT_NonCOVID/32%0.jpg  \n",
            "  inflating: CT Covid Adrian/CT_NonCOVID/32%1.jpg  \n",
            "  inflating: CT Covid Adrian/CT_NonCOVID/33%0.jpg  \n",
            "  inflating: CT Covid Adrian/CT_NonCOVID/33%1.jpg  \n",
            "  inflating: CT Covid Adrian/CT_NonCOVID/33.png  \n",
            "  inflating: CT Covid Adrian/CT_NonCOVID/34.jpg  \n",
            "  inflating: CT Covid Adrian/CT_NonCOVID/35%0.jpg  \n",
            "  inflating: CT Covid Adrian/CT_NonCOVID/35%1.jpg  \n",
            "  inflating: CT Covid Adrian/CT_NonCOVID/35%2.jpg  \n",
            "  inflating: CT Covid Adrian/CT_NonCOVID/354.png  \n",
            "  inflating: CT Covid Adrian/CT_NonCOVID/36%0.jpg  \n",
            "  inflating: CT Covid Adrian/CT_NonCOVID/36%1.jpg  \n",
            "  inflating: CT Covid Adrian/CT_NonCOVID/361.png  \n",
            "  inflating: CT Covid Adrian/CT_NonCOVID/37%0.jpg  \n",
            "  inflating: CT Covid Adrian/CT_NonCOVID/37%1.jpg  \n",
            "  inflating: CT Covid Adrian/CT_NonCOVID/37%2.jpg  \n",
            "  inflating: CT Covid Adrian/CT_NonCOVID/37%3.jpg  \n",
            "  inflating: CT Covid Adrian/CT_NonCOVID/37%4.jpg  \n",
            "  inflating: CT Covid Adrian/CT_NonCOVID/378.png  \n",
            "  inflating: CT Covid Adrian/CT_NonCOVID/38%0.jpg  \n",
            "  inflating: CT Covid Adrian/CT_NonCOVID/38%1.jpg  \n",
            "  inflating: CT Covid Adrian/CT_NonCOVID/38%2.jpg  \n",
            "  inflating: CT Covid Adrian/CT_NonCOVID/381.png  \n",
            "  inflating: CT Covid Adrian/CT_NonCOVID/382.png  \n",
            "  inflating: CT Covid Adrian/CT_NonCOVID/383.png  \n",
            "  inflating: CT Covid Adrian/CT_NonCOVID/385.png  \n",
            "  inflating: CT Covid Adrian/CT_NonCOVID/39%0.jpg  \n",
            "  inflating: CT Covid Adrian/CT_NonCOVID/39%1.jpg  \n",
            "  inflating: CT Covid Adrian/CT_NonCOVID/39%2.jpg  \n",
            "  inflating: CT Covid Adrian/CT_NonCOVID/39%3.jpg  \n",
            "  inflating: CT Covid Adrian/CT_NonCOVID/39%4.jpg  \n",
            "  inflating: CT Covid Adrian/CT_NonCOVID/39%5.jpg  \n",
            "  inflating: CT Covid Adrian/CT_NonCOVID/39%6.jpg  \n",
            "  inflating: CT Covid Adrian/CT_NonCOVID/39%7.jpg  \n",
            "  inflating: CT Covid Adrian/CT_NonCOVID/39%8.jpg  \n",
            "  inflating: CT Covid Adrian/CT_NonCOVID/4%1.jpg  \n",
            "  inflating: CT Covid Adrian/CT_NonCOVID/4%3.jpg  \n",
            "  inflating: CT Covid Adrian/CT_NonCOVID/4%5.jpg  \n",
            "  inflating: CT Covid Adrian/CT_NonCOVID/4%7.jpg  \n",
            "  inflating: CT Covid Adrian/CT_NonCOVID/40%0.jpg  \n",
            "  inflating: CT Covid Adrian/CT_NonCOVID/40%1.jpg  \n",
            "  inflating: CT Covid Adrian/CT_NonCOVID/41.jpg  \n",
            "  inflating: CT Covid Adrian/CT_NonCOVID/412.png  \n",
            "  inflating: CT Covid Adrian/CT_NonCOVID/413.png  \n",
            "  inflating: CT Covid Adrian/CT_NonCOVID/414.png  \n",
            "  inflating: CT Covid Adrian/CT_NonCOVID/42.jpg  \n",
            "  inflating: CT Covid Adrian/CT_NonCOVID/43%1.jpg  \n",
            "  inflating: CT Covid Adrian/CT_NonCOVID/43%2.jpg  \n",
            "  inflating: CT Covid Adrian/CT_NonCOVID/43%3.jpg  \n",
            "  inflating: CT Covid Adrian/CT_NonCOVID/43.png  \n",
            "  inflating: CT Covid Adrian/CT_NonCOVID/44%0.jpg  \n",
            "  inflating: CT Covid Adrian/CT_NonCOVID/44%1.jpg  \n",
            "  inflating: CT Covid Adrian/CT_NonCOVID/44.png  \n",
            "  inflating: CT Covid Adrian/CT_NonCOVID/45.jpg  \n",
            "  inflating: CT Covid Adrian/CT_NonCOVID/452.png  \n",
            "  inflating: CT Covid Adrian/CT_NonCOVID/46.jpg  \n",
            "  inflating: CT Covid Adrian/CT_NonCOVID/47.jpg  \n",
            "  inflating: CT Covid Adrian/CT_NonCOVID/48.jpg  \n",
            "  inflating: CT Covid Adrian/CT_NonCOVID/486.png  \n",
            "  inflating: CT Covid Adrian/CT_NonCOVID/487.png  \n",
            "  inflating: CT Covid Adrian/CT_NonCOVID/49%0.jpg  \n",
            "  inflating: CT Covid Adrian/CT_NonCOVID/49%1.jpg  \n",
            "  inflating: CT Covid Adrian/CT_NonCOVID/5%0.jpg  \n",
            "  inflating: CT Covid Adrian/CT_NonCOVID/5%1.jpg  \n",
            "  inflating: CT Covid Adrian/CT_NonCOVID/5%2.jpg  \n",
            "  inflating: CT Covid Adrian/CT_NonCOVID/5%3.jpg  \n",
            "  inflating: CT Covid Adrian/CT_NonCOVID/5%4.jpg  \n",
            "  inflating: CT Covid Adrian/CT_NonCOVID/5%5.jpg  \n",
            "  inflating: CT Covid Adrian/CT_NonCOVID/5%6.jpg  \n",
            "  inflating: CT Covid Adrian/CT_NonCOVID/5%7.jpg  \n",
            "  inflating: CT Covid Adrian/CT_NonCOVID/50.jpg  \n",
            "  inflating: CT Covid Adrian/CT_NonCOVID/51%0.jpg  \n",
            "  inflating: CT Covid Adrian/CT_NonCOVID/51%1.jpg  \n",
            "  inflating: CT Covid Adrian/CT_NonCOVID/51%2.jpg  \n",
            "  inflating: CT Covid Adrian/CT_NonCOVID/51%3.jpg  \n",
            "  inflating: CT Covid Adrian/CT_NonCOVID/52%0.jpg  \n",
            "  inflating: CT Covid Adrian/CT_NonCOVID/52%1.jpg  \n",
            "  inflating: CT Covid Adrian/CT_NonCOVID/53.jpg  \n",
            "  inflating: CT Covid Adrian/CT_NonCOVID/54%0.jpg  \n",
            "  inflating: CT Covid Adrian/CT_NonCOVID/54%1.jpg  \n",
            "  inflating: CT Covid Adrian/CT_NonCOVID/54%2.jpg  \n",
            "  inflating: CT Covid Adrian/CT_NonCOVID/54%3.jpg  \n",
            "  inflating: CT Covid Adrian/CT_NonCOVID/56%0.jpg  \n",
            "  inflating: CT Covid Adrian/CT_NonCOVID/56%1.jpg  \n",
            "  inflating: CT Covid Adrian/CT_NonCOVID/57%0.jpg  \n",
            "  inflating: CT Covid Adrian/CT_NonCOVID/575.png  \n",
            "  inflating: CT Covid Adrian/CT_NonCOVID/576.png  \n",
            "  inflating: CT Covid Adrian/CT_NonCOVID/577.png  \n",
            "  inflating: CT Covid Adrian/CT_NonCOVID/578.png  \n",
            "  inflating: CT Covid Adrian/CT_NonCOVID/579.png  \n",
            "  inflating: CT Covid Adrian/CT_NonCOVID/580.png  \n",
            "  inflating: CT Covid Adrian/CT_NonCOVID/583.png  \n",
            "  inflating: CT Covid Adrian/CT_NonCOVID/584.png  \n",
            "  inflating: CT Covid Adrian/CT_NonCOVID/585.png  \n",
            "  inflating: CT Covid Adrian/CT_NonCOVID/586.png  \n",
            "  inflating: CT Covid Adrian/CT_NonCOVID/587.png  \n",
            "  inflating: CT Covid Adrian/CT_NonCOVID/59%0.jpg  \n",
            "  inflating: CT Covid Adrian/CT_NonCOVID/59.png  \n",
            "  inflating: CT Covid Adrian/CT_NonCOVID/590.png  \n",
            "  inflating: CT Covid Adrian/CT_NonCOVID/591.png  \n",
            "  inflating: CT Covid Adrian/CT_NonCOVID/592.png  \n",
            "  inflating: CT Covid Adrian/CT_NonCOVID/6%0.jpg  \n",
            "  inflating: CT Covid Adrian/CT_NonCOVID/6%1.jpg  \n",
            "  inflating: CT Covid Adrian/CT_NonCOVID/6%2.jpg  \n",
            "  inflating: CT Covid Adrian/CT_NonCOVID/6%3.jpg  \n",
            "  inflating: CT Covid Adrian/CT_NonCOVID/60.jpg  \n",
            "  inflating: CT Covid Adrian/CT_NonCOVID/62.jpg  \n",
            "  inflating: CT Covid Adrian/CT_NonCOVID/63%0.jpg  \n",
            "  inflating: CT Covid Adrian/CT_NonCOVID/63%1.jpg  \n",
            "  inflating: CT Covid Adrian/CT_NonCOVID/63%2.jpg  \n",
            "  inflating: CT Covid Adrian/CT_NonCOVID/63%3.jpg  \n",
            "  inflating: CT Covid Adrian/CT_NonCOVID/63%4.jpg  \n",
            "  inflating: CT Covid Adrian/CT_NonCOVID/63%5.jpg  \n",
            "  inflating: CT Covid Adrian/CT_NonCOVID/63%6.jpg  \n",
            "  inflating: CT Covid Adrian/CT_NonCOVID/63%7.jpg  \n",
            "  inflating: CT Covid Adrian/CT_NonCOVID/64.jpg  \n",
            "  inflating: CT Covid Adrian/CT_NonCOVID/65%0.jpg  \n",
            "  inflating: CT Covid Adrian/CT_NonCOVID/65%1.jpg  \n",
            "  inflating: CT Covid Adrian/CT_NonCOVID/65%2.jpg  \n",
            "  inflating: CT Covid Adrian/CT_NonCOVID/65%3.jpg  \n",
            "  inflating: CT Covid Adrian/CT_NonCOVID/65%4.jpg  \n",
            "  inflating: CT Covid Adrian/CT_NonCOVID/658.png  \n",
            "  inflating: CT Covid Adrian/CT_NonCOVID/66.jpg  \n",
            "  inflating: CT Covid Adrian/CT_NonCOVID/660.png  \n",
            "  inflating: CT Covid Adrian/CT_NonCOVID/661.png  \n",
            "  inflating: CT Covid Adrian/CT_NonCOVID/662.png  \n",
            "  inflating: CT Covid Adrian/CT_NonCOVID/663.png  \n",
            "  inflating: CT Covid Adrian/CT_NonCOVID/67%0.jpg  \n",
            "  inflating: CT Covid Adrian/CT_NonCOVID/67%1.jpg  \n",
            "  inflating: CT Covid Adrian/CT_NonCOVID/67%2.jpg  \n",
            "  inflating: CT Covid Adrian/CT_NonCOVID/672.png  \n",
            "  inflating: CT Covid Adrian/CT_NonCOVID/673.png  \n",
            "  inflating: CT Covid Adrian/CT_NonCOVID/68.jpg  \n",
            "  inflating: CT Covid Adrian/CT_NonCOVID/69%0.jpg  \n",
            "  inflating: CT Covid Adrian/CT_NonCOVID/69%1.jpg  \n",
            "  inflating: CT Covid Adrian/CT_NonCOVID/7.jpg  \n",
            "  inflating: CT Covid Adrian/CT_NonCOVID/70%0.jpg  \n",
            "  inflating: CT Covid Adrian/CT_NonCOVID/70%1.jpg  \n",
            "  inflating: CT Covid Adrian/CT_NonCOVID/704.png  \n",
            "  inflating: CT Covid Adrian/CT_NonCOVID/705.png  \n",
            "  inflating: CT Covid Adrian/CT_NonCOVID/706.png  \n",
            "  inflating: CT Covid Adrian/CT_NonCOVID/709.png  \n",
            "  inflating: CT Covid Adrian/CT_NonCOVID/71%0.jpg  \n",
            "  inflating: CT Covid Adrian/CT_NonCOVID/71%1.jpg  \n",
            "  inflating: CT Covid Adrian/CT_NonCOVID/72.jpg  \n",
            "  inflating: CT Covid Adrian/CT_NonCOVID/73.jpg  \n",
            "  inflating: CT Covid Adrian/CT_NonCOVID/74.jpg  \n",
            "  inflating: CT Covid Adrian/CT_NonCOVID/75%0.jpg  \n",
            "  inflating: CT Covid Adrian/CT_NonCOVID/75%1.jpg  \n",
            "  inflating: CT Covid Adrian/CT_NonCOVID/753.png  \n",
            "  inflating: CT Covid Adrian/CT_NonCOVID/754.png  \n",
            "  inflating: CT Covid Adrian/CT_NonCOVID/76%0.jpg  \n",
            "  inflating: CT Covid Adrian/CT_NonCOVID/76%1.jpg  \n",
            "  inflating: CT Covid Adrian/CT_NonCOVID/76%2.jpg  \n",
            "  inflating: CT Covid Adrian/CT_NonCOVID/77.jpg  \n",
            "  inflating: CT Covid Adrian/CT_NonCOVID/78.jpg  \n",
            "  inflating: CT Covid Adrian/CT_NonCOVID/781.png  \n",
            "  inflating: CT Covid Adrian/CT_NonCOVID/782.png  \n",
            "  inflating: CT Covid Adrian/CT_NonCOVID/79.jpg  \n",
            "  inflating: CT Covid Adrian/CT_NonCOVID/8.jpg  \n",
            "  inflating: CT Covid Adrian/CT_NonCOVID/80%0.jpg  \n",
            "  inflating: CT Covid Adrian/CT_NonCOVID/80%1.jpg  \n",
            "  inflating: CT Covid Adrian/CT_NonCOVID/81%0.jpg  \n",
            "  inflating: CT Covid Adrian/CT_NonCOVID/81%1.jpg  \n",
            "  inflating: CT Covid Adrian/CT_NonCOVID/81%2.jpg  \n",
            "  inflating: CT Covid Adrian/CT_NonCOVID/81%3.jpg  \n",
            "  inflating: CT Covid Adrian/CT_NonCOVID/81.png  \n",
            "  inflating: CT Covid Adrian/CT_NonCOVID/82%0.jpg  \n",
            "  inflating: CT Covid Adrian/CT_NonCOVID/82%1.jpg  \n",
            "  inflating: CT Covid Adrian/CT_NonCOVID/82%2.jpg  \n",
            "  inflating: CT Covid Adrian/CT_NonCOVID/82%3.jpg  \n",
            "  inflating: CT Covid Adrian/CT_NonCOVID/82.png  \n",
            "  inflating: CT Covid Adrian/CT_NonCOVID/83%0.jpg  \n",
            "  inflating: CT Covid Adrian/CT_NonCOVID/83%1.jpg  \n",
            "  inflating: CT Covid Adrian/CT_NonCOVID/83%2.jpg  \n",
            "  inflating: CT Covid Adrian/CT_NonCOVID/83%3.jpg  \n",
            "  inflating: CT Covid Adrian/CT_NonCOVID/84%0.jpg  \n",
            "  inflating: CT Covid Adrian/CT_NonCOVID/84%1.jpg  \n",
            "  inflating: CT Covid Adrian/CT_NonCOVID/84%2.jpg  \n",
            "  inflating: CT Covid Adrian/CT_NonCOVID/84%3.jpg  \n",
            "  inflating: CT Covid Adrian/CT_NonCOVID/848.png  \n",
            "  inflating: CT Covid Adrian/CT_NonCOVID/849.png  \n",
            "  inflating: CT Covid Adrian/CT_NonCOVID/85%0.jpg  \n",
            "  inflating: CT Covid Adrian/CT_NonCOVID/85%1.jpg  \n",
            "  inflating: CT Covid Adrian/CT_NonCOVID/86.jpg  \n",
            "  inflating: CT Covid Adrian/CT_NonCOVID/88.jpg  \n",
            "  inflating: CT Covid Adrian/CT_NonCOVID/887.png  \n",
            "  inflating: CT Covid Adrian/CT_NonCOVID/889.png  \n",
            "  inflating: CT Covid Adrian/CT_NonCOVID/89%2.jpg  \n",
            "  inflating: CT Covid Adrian/CT_NonCOVID/89%3.jpg  \n",
            "  inflating: CT Covid Adrian/CT_NonCOVID/890.png  \n",
            "  inflating: CT Covid Adrian/CT_NonCOVID/9.jpg  \n",
            "  inflating: CT Covid Adrian/CT_NonCOVID/90.jpg  \n",
            "  inflating: CT Covid Adrian/CT_NonCOVID/91%0.jpg  \n",
            "  inflating: CT Covid Adrian/CT_NonCOVID/91%1.jpg  \n",
            "  inflating: CT Covid Adrian/CT_NonCOVID/921.png  \n",
            "  inflating: CT Covid Adrian/CT_NonCOVID/956.png  \n",
            "  inflating: CT Covid Adrian/CT_NonCOVID/957.png  \n",
            "  inflating: CT Covid Adrian/CT_NonCOVID/969.png  \n",
            "  inflating: CT Covid Adrian/CT_NonCOVID/996.png  \n",
            "  inflating: CT Covid Adrian/CT_NonCOVID/997.png  \n"
          ],
          "name": "stdout"
        }
      ]
    },
    {
      "cell_type": "code",
      "metadata": {
        "id": "aJ8LLodIBvGA",
        "colab": {
          "base_uri": "https://localhost:8080/",
          "height": 33
        },
        "outputId": "8545c965-a92e-4599-d4ea-c30c4571163b"
      },
      "source": [
        "!ls"
      ],
      "execution_count": null,
      "outputs": [
        {
          "output_type": "stream",
          "text": [
            " covidmodel.pickle  'CT Covid Adrian'   drive   sample_data\n"
          ],
          "name": "stdout"
        }
      ]
    },
    {
      "cell_type": "code",
      "metadata": {
        "id": "1w_uPHiwE6wF",
        "colab": {
          "base_uri": "https://localhost:8080/",
          "height": 903
        },
        "outputId": "ebc6633e-8414-40cd-a0f9-7d2f8b0eb38c"
      },
      "source": [
        "!unzip '/content/testadrian.zip'"
      ],
      "execution_count": null,
      "outputs": [
        {
          "output_type": "stream",
          "text": [
            "Archive:  /content/testadrian.zip\n",
            "   creating: test/covid/\n",
            "  inflating: test/covid/1-s2.0-S0140673620303706-fx1_lrg.jpg  \n",
            "  inflating: test/covid/1-s2.0-S0929664620300449-gr2_lrg-a.jpg  \n",
            "  inflating: test/covid/1-s2.0-S0929664620300449-gr2_lrg-b.jpg  \n",
            "  inflating: test/covid/1-s2.0-S0929664620300449-gr2_lrg-c.jpg  \n",
            "  inflating: test/covid/1-s2.0-S0929664620300449-gr2_lrg-d.jpg  \n",
            "  inflating: test/covid/auntminnie-a-2020_01_28_23_51_6665_2020_01_28_Vietnam_coronavirus.jpeg  \n",
            "  inflating: test/covid/auntminnie-b-2020_01_28_23_51_6665_2020_01_28_Vietnam_coronavirus.jpeg  \n",
            "  inflating: test/covid/auntminnie-c-2020_01_28_23_51_6665_2020_01_28_Vietnam_coronavirus.jpeg  \n",
            "  inflating: test/covid/auntminnie-d-2020_01_28_23_51_6665_2020_01_28_Vietnam_coronavirus.jpeg  \n",
            "  inflating: test/covid/lancet-case2a.jpg  \n",
            "  inflating: test/covid/lancet-case2b.jpg  \n",
            "  inflating: test/covid/nCoV-radiol.2020200269.fig1-day7.jpeg  \n",
            "  inflating: test/covid/nejmc2001573_f1a.jpeg  \n",
            "  inflating: test/covid/nejmc2001573_f1b.jpeg  \n",
            "  inflating: test/covid/nejmoa2001191_f1-PA.jpeg  \n",
            "  inflating: test/covid/nejmoa2001191_f3-PA.jpeg  \n",
            "  inflating: test/covid/nejmoa2001191_f4.jpeg  \n",
            "  inflating: test/covid/nejmoa2001191_f5-PA.jpeg  \n",
            "  inflating: test/covid/radiol.2020200490.fig3.jpeg  \n",
            "  inflating: test/covid/radiopedia-covid-19-pneumonia-2.jpg  \n",
            "  inflating: test/covid/ryct.2020200028.fig1a.jpeg  \n",
            "  inflating: test/covid/ryct.2020200034.fig2.jpeg  \n",
            "  inflating: test/covid/ryct.2020200034.fig5-day0.jpeg  \n",
            "  inflating: test/covid/ryct.2020200034.fig5-day4.jpeg  \n",
            "  inflating: test/covid/ryct.2020200034.fig5-day7.jpeg  \n",
            "   creating: test/normal/\n",
            "  inflating: test/normal/IM-0033-0001-0001.jpeg  \n",
            "  inflating: test/normal/IM-0240-0001.jpeg  \n",
            "  inflating: test/normal/IM-0466-0001.jpeg  \n",
            "  inflating: test/normal/NORMAL2-IM-0315-0001.jpeg  \n",
            "  inflating: test/normal/NORMAL2-IM-0696-0001.jpeg  \n",
            "  inflating: test/normal/NORMAL2-IM-0869-0001.jpeg  \n",
            "  inflating: test/normal/NORMAL2-IM-1179-0001.jpeg  \n",
            "  inflating: test/normal/person1_bacteria_2.jpeg  \n",
            "  inflating: test/normal/person1102_bacteria_3043.jpeg  \n",
            "  inflating: test/normal/person1290_virus_2215.jpeg  \n",
            "  inflating: test/normal/person1558_bacteria_4066.jpeg  \n",
            "  inflating: test/normal/person1599_virus_2776.jpeg  \n",
            "  inflating: test/normal/person1830_bacteria_4693.jpeg  \n",
            "  inflating: test/normal/person1935_bacteria_4849.jpeg  \n",
            "  inflating: test/normal/person259_bacteria_1220.jpeg  \n",
            "  inflating: test/normal/person339_bacteria_1574.jpeg  \n",
            "  inflating: test/normal/person378_virus_761.jpeg  \n",
            "  inflating: test/normal/person438_bacteria_1893.jpeg  \n",
            "  inflating: test/normal/person525_bacteria_2216.jpeg  \n",
            "  inflating: test/normal/person612_bacteria_2478.jpeg  \n",
            "  inflating: test/normal/person651_bacteria_2543.jpeg  \n",
            "  inflating: test/normal/person925_virus_1582.jpeg  \n",
            "  inflating: test/normal/person934_virus_1595.jpeg  \n",
            "  inflating: test/normal/person939_bacteria_2864.jpeg  \n",
            "  inflating: test/normal/person989_virus_1667.jpeg  \n"
          ],
          "name": "stdout"
        }
      ]
    },
    {
      "cell_type": "code",
      "metadata": {
        "id": "fW4LlhU1BwHc"
      },
      "source": [
        "test='test'"
      ],
      "execution_count": null,
      "outputs": []
    },
    {
      "cell_type": "code",
      "metadata": {
        "id": "xVkjOtIyEFY-"
      },
      "source": [
        "import pickle"
      ],
      "execution_count": null,
      "outputs": []
    },
    {
      "cell_type": "code",
      "metadata": {
        "id": "JmhGrtBeCCr7"
      },
      "source": [
        "with open('covidmodel.pickle','rb') as f:\n",
        "  load_model=pickle.load(f)"
      ],
      "execution_count": null,
      "outputs": []
    },
    {
      "cell_type": "code",
      "metadata": {
        "id": "4RTEOfKdDWrD",
        "colab": {
          "base_uri": "https://localhost:8080/",
          "height": 33
        },
        "outputId": "a7461ee1-774f-4b3f-e674-8c1e78a49eb2"
      },
      "source": [
        "test_data_gen=ImageDataGenerator(rescale=1/255.)\n",
        "test_gen=test_data_gen.flow_from_directory(test,target_size=(200,200),class_mode='binary',batch_size=20)"
      ],
      "execution_count": null,
      "outputs": [
        {
          "output_type": "stream",
          "text": [
            "Found 50 images belonging to 2 classes.\n"
          ],
          "name": "stdout"
        }
      ]
    },
    {
      "cell_type": "code",
      "metadata": {
        "id": "XDLZkmcGD3-K",
        "colab": {
          "base_uri": "https://localhost:8080/",
          "height": 50
        },
        "outputId": "5880d578-2d3c-4396-c2a5-4d628fd1aad5"
      },
      "source": [
        "load_model.evaluate(test_gen)"
      ],
      "execution_count": null,
      "outputs": [
        {
          "output_type": "stream",
          "text": [
            "3/3 [==============================] - 1s 399ms/step\n"
          ],
          "name": "stdout"
        },
        {
          "output_type": "execute_result",
          "data": {
            "text/plain": [
              "[0.4946973919868469, 0.9800000190734863]"
            ]
          },
          "metadata": {
            "tags": []
          },
          "execution_count": 19
        }
      ]
    },
    {
      "cell_type": "code",
      "metadata": {
        "id": "fJrrmiSPFf9_"
      },
      "source": [
        "predict=load_model.predict(test_gen)\n",
        "predict=list(predict)"
      ],
      "execution_count": null,
      "outputs": []
    },
    {
      "cell_type": "code",
      "metadata": {
        "id": "XIrZ8UDhGPGc"
      },
      "source": [
        "prediction=[]\n",
        "for i in predict:\n",
        "  if i>.50:\n",
        "    prediction.append(\"Healthy\")\n",
        "  else:\n",
        "    prediction.append('CORONA VIRUS')"
      ],
      "execution_count": null,
      "outputs": []
    },
    {
      "cell_type": "code",
      "metadata": {
        "id": "xlQ6eyeKGSC_",
        "colab": {
          "base_uri": "https://localhost:8080/",
          "height": 853
        },
        "outputId": "1d5d85c5-61c4-4d1f-d13a-37cd08d5a190"
      },
      "source": [
        "for i in range(50):\n",
        "  print(prediction[i],'\\t',predict[i])"
      ],
      "execution_count": null,
      "outputs": [
        {
          "output_type": "stream",
          "text": [
            "Healthy \t [0.9973738]\n",
            "Healthy \t [0.99595803]\n",
            "CORONA VIRUS \t [0.00892567]\n",
            "Healthy \t [0.9999546]\n",
            "Healthy \t [0.9914396]\n",
            "CORONA VIRUS \t [0.02218789]\n",
            "Healthy \t [0.99844664]\n",
            "Healthy \t [0.86689943]\n",
            "Healthy \t [0.9686997]\n",
            "Healthy \t [0.76691484]\n",
            "CORONA VIRUS \t [0.05828446]\n",
            "CORONA VIRUS \t [0.0078519]\n",
            "CORONA VIRUS \t [0.00965434]\n",
            "CORONA VIRUS \t [0.045879]\n",
            "Healthy \t [0.99380386]\n",
            "CORONA VIRUS \t [0.01862895]\n",
            "CORONA VIRUS \t [0.02136905]\n",
            "Healthy \t [0.9999722]\n",
            "Healthy \t [0.9988661]\n",
            "CORONA VIRUS \t [0.0113857]\n",
            "Healthy \t [0.99874854]\n",
            "Healthy \t [0.99972457]\n",
            "CORONA VIRUS \t [0.03549166]\n",
            "CORONA VIRUS \t [0.03839918]\n",
            "Healthy \t [0.9590953]\n",
            "CORONA VIRUS \t [0.00421406]\n",
            "CORONA VIRUS \t [0.01101325]\n",
            "CORONA VIRUS \t [0.01772252]\n",
            "Healthy \t [0.9540083]\n",
            "Healthy \t [0.9592738]\n",
            "CORONA VIRUS \t [0.11100677]\n",
            "CORONA VIRUS \t [0.00737809]\n",
            "CORONA VIRUS \t [0.04431432]\n",
            "CORONA VIRUS \t [0.0294141]\n",
            "CORONA VIRUS \t [0.08513646]\n",
            "CORONA VIRUS \t [0.05003079]\n",
            "Healthy \t [0.9518921]\n",
            "CORONA VIRUS \t [0.01743243]\n",
            "Healthy \t [0.9996877]\n",
            "Healthy \t [0.9967803]\n",
            "Healthy \t [0.98183846]\n",
            "Healthy \t [0.9047759]\n",
            "CORONA VIRUS \t [0.00686175]\n",
            "Healthy \t [0.98262835]\n",
            "Healthy \t [0.94292194]\n",
            "CORONA VIRUS \t [0.01036082]\n",
            "Healthy \t [0.99934417]\n",
            "CORONA VIRUS \t [0.07471818]\n",
            "CORONA VIRUS \t [0.07810975]\n",
            "CORONA VIRUS \t [0.01590193]\n"
          ],
          "name": "stdout"
        }
      ]
    },
    {
      "cell_type": "code",
      "metadata": {
        "id": "o3KhwPR8GZaG",
        "colab": {
          "base_uri": "https://localhost:8080/",
          "height": 33
        },
        "outputId": "b02cdbaf-0dc3-4908-c7ae-4bc430ed07ae"
      },
      "source": [
        "type(prediction)"
      ],
      "execution_count": null,
      "outputs": [
        {
          "output_type": "execute_result",
          "data": {
            "text/plain": [
              "list"
            ]
          },
          "metadata": {
            "tags": []
          },
          "execution_count": 25
        }
      ]
    },
    {
      "cell_type": "code",
      "metadata": {
        "id": "VfSDJ_DTGxS_"
      },
      "source": [
        ""
      ],
      "execution_count": null,
      "outputs": []
    }
  ]
}